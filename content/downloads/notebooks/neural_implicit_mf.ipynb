{
 "cells": [
  {
   "cell_type": "markdown",
   "metadata": {},
   "source": [
    "# Approximating Implicit Matrix Factorization with Shallow Neural Networks"
   ]
  },
  {
   "cell_type": "code",
   "execution_count": 4,
   "metadata": {
    "collapsed": true
   },
   "outputs": [],
   "source": [
    "from collections import namedtuple\n",
    "from copy import deepcopy\n",
    "import random\n",
    "\n",
    "import matplotlib.pyplot as plt\n",
    "import numpy as np\n",
    "import pandas as pd\n",
    "import seaborn as sns\n",
    "from sklearn.manifold import TSNE\n",
    "from sklearn.metrics.pairwise import cosine_similarity\n",
    "from sqlalchemy import create_engine\n",
    "\n",
    "from dotify.config import DevelopmentConfig as Config\n",
    "from dotify.recommendation.implicit_mf.ratings_matrix import RatingsMatrix\n",
    "from dotify.recommendation.implicit_mf.implicit_mf import ImplicitMF\n",
    "from dotify.resources.countries import countries as countries_lookup\n",
    "\n",
    "ENGINE = create_engine(Config.SQLALCHEMY_DATABASE_URI)\n",
    "\n",
    "%matplotlib inline\n",
    "plt.style.use('seaborn')"
   ]
  },
  {
   "cell_type": "markdown",
   "metadata": {},
   "source": [
    "# Abstract"
   ]
  },
  {
   "cell_type": "markdown",
   "metadata": {},
   "source": [
    "## Implicit Matrix Factorization\n",
    "\n",
    "The Implicit Matrix Factorization (IMF) algorithm as presented by [Hu, Koren and Volinksy](http://yifanhu.net/PUB/cf.pdf) is a widely popular, effective method for recommending items to users. This approach was born from necessity: while explicit feedback as to our users' tastes - a questionnaire completed at user signup, for example - makes building a recommendation engine straightforward, we often have nothing more than *implicit feedback* data - view count, click count, time spent on page, for example - which serve instead as a proxy for these preferences. Crucially, the latter feedback is asymmetric: while a high view count might indicate positive preference for a given item, a low view count cannot be said to do the opposite. Perhaps, the user simply didn't know the item was there.\n",
    "\n",
    "IMF begins with a ratings matrix $R$, where $R_{u, i}$ gives the implicit feedback value observed for user $u$ and item $i$. Next, it constructs two other matrices defined as follows:\n",
    "\n",
    "$$\n",
    "p_{u, i} =\n",
    "\\begin{cases}\n",
    "1 & r_{u, i} \\gt 0\\\\\n",
    "0 & r_{u, i} = 0\n",
    "\\end{cases}\\\\\n",
    "c_{u, i} = 1 + \\alpha r_{u, i}\n",
    "$$\n",
    "\n",
    "$P$ gives a binary matrix indicating our belief in the existence of each user's preference for each item. $C$ gives our *confidence* in the existence of each user's preference for each item where, trivially, larger values of $r_{u, i}$ give us higher confidence that user $u$ indeed likes item $i$.\n",
    "\n",
    "Next, IMF outlines its goal: let's embed each user and item into $\\mathbb{R}^f$ such that their dot product approximates the former's true preference for the latter. Finally, and naming user vectors $x_u \\in \\mathbb{R}^f$ and item vectors $y_i \\in \\mathbb{R}^f$, we compute the argmin of the following objective:\n",
    "\n",
    "$$\n",
    "\\underset{x_{*}, y_{*}}{\\arg\\min}\\sum\\limits_{u, i}c_{u, i}\\big(p_{u, i} - x_u^Ty_i\\big)^2 + \\lambda\\bigg(\\sum\\limits_u\\|x_u\\|^2 + \\sum\\limits_i\\|y_u\\|^2\\bigg)\n",
    "$$\n",
    "\n",
    "Once sufficiently minimized, we can compute expected preferences $\\hat{p}_{u, i} = x_u^Ty_i$ for unobserved $\\text{(user, item)}$ pairs; recommendation then becomes:\n",
    "1. For a given user $u$, compute predicted preferences $\\hat{p}_{u, i} = x_u^Ty_i$ for all items $i$.\n",
    "2. Sort the list in descending order.\n",
    "3. Returning the top $n$ items.\n",
    "\n",
    "## Shallow neural networks\n",
    "IMF effectively gives a function $f: u, i \\rightarrow \\hat{p}_{u, i}$. As before, our goal is to minimize the function above, which we can now rewrite as:\n",
    "\n",
    "$$\n",
    "\\underset{x_{*}, y_{*}}{\\arg\\min}\\sum\\limits_{u, i}c_{u, i}\\big(p_{u, i} - f(u, i)\\big)^2 + \\lambda\\bigg(\\sum\\limits_u\\|x_u\\|^2 + \\sum\\limits_i\\|y_u\\|^2\\bigg)\n",
    "$$\n",
    "\n",
    "To approximate this function, I turn to our favorite [universal function approximator](http://neuralnetworksanddeeplearning.com/chap4.html): neural networks optimized with stochastic gradient descent.\n",
    "\n",
    "This work is built around a toy web application I authored long ago: [dotify](http://dotify.herokuapp.com/). At present, dotify:\n",
    "- Pulls data nightly from [Spotify Charts](https://spotifycharts.com/regional). These data contain the number of streams for that day's top 200 songs for each of 55 countries.\n",
    "- Computes an implicit matrix factorization nightly, giving vectors for both countries and songs.\n",
    "- Allows the user to input a \"country-arithmetic\" expression, i.e. \"I want music like `Colombia x Turkey - Germany`.\" It then performs this arithmetic with the chosen vectors and recommends songs to the composite.\n",
    "\n",
    "In this work, I first fit and cross-validate an implicit matrix factorization model, establishing the three requisite parameters: $f$, the dimensionality of the latent vectors; $\\alpha$, the scalar multiple used in computing $C$; $\\lambda$ the regularization strength used in on our loss function.\n",
    "\n",
    "### Network architectures\n",
    "\n",
    "Next, I explore five different shallow neural network architectures in attempt to improve upon the observed results. These architectures are as follows:\n",
    "\n",
    "1. A trivially \"Siamese\" network which first embeds each country and song index into $\\mathbb{R}^f$ in parallel then computes a dot-product of the embeddings. This is roughly equivalent to what is being done by IMF.\n",
    "2. Same as previous, but with a bias embedding for each set, in $\\mathbb{R}$, added to the dot-product.\n",
    "3. Same as [#1](#network_1), but concatenate the vectors instead. Then, stack 3 fully-connected layers with ReLU activations, batch normalization after each, and dropout after the first. Finally, add a 1-unit dense layer on the end, and add bias embeddings to the result. (NB: I wanted to add the bias embeddings to the respective $\\mathbb{R}^f$ embeddings at the outset, but couldn't figure out how to do this in Keras.)\n",
    "4. Same as [#2](#network_2), except feed in the song title text as well. This text is first tokenized, then padded to a maximum sequence length, then embedded into a fixed-length vector by an LSTM, then reduced to a single value by a dense layer with a ReLU activation. Finally, this scalar is concatenated to the scalar output that [#2](#network_2) would produce, and the result is fed into a final dense layer with a linear activation - i.e. a linear combination of the two.\n",
    "5. Same as [#4](#network_4), except feed in the song artist index as well. This index is first embedded into a vector, then reduced to a scalar by a dense layer with a ReLU activation. Finally, this scalar is concatenated with the two scalars produced in the second-to-last layer of [#4](#network_4), then fed into a final dense layer with a linear activation. Like the previous, this is a linear combination of the three inputs.\n",
    "\n",
    "# Results\n",
    "\n",
    "While the various network architectures are intruiging for both the ease with which we can incorporate multiple, disparate inputs into our function, and the ability to then train this function end-to-end with respect to our main minimization objective, we find no reason to prefer them over the time-worn Implicit Matrix Factorization algorithm."
   ]
  },
  {
   "cell_type": "markdown",
   "metadata": {},
   "source": [
    "# Data preparation\n",
    "\n",
    "To construct our ratings matrix, I take the sum of total streams for each $\\text{(country, song)}$ pair. The data are limited to a given number of \"top songs,\" defined as a song that appeared on Spotify Charts *on a given date*.\n",
    "\n",
    "Because the values exist on wildly different orders of magnitude, I scale the results as follows:\n",
    "\n",
    "$$\\tilde{r}_{u, i} = \\log{\\bigg(\\frac{1 + r_{u, i}}{\\epsilon}\\bigg)}$$\n",
    "\n",
    "To start, let's build a ratings matrix for a small sample of the data."
   ]
  },
  {
   "cell_type": "code",
   "execution_count": 143,
   "metadata": {
    "scrolled": false
   },
   "outputs": [
    {
     "data": {
      "text/html": [
       "<div>\n",
       "<table border=\"1\" class=\"dataframe\">\n",
       "  <thead>\n",
       "    <tr style=\"text-align: right;\">\n",
       "      <th>song_id</th>\n",
       "      <th>5552</th>\n",
       "      <th>5553</th>\n",
       "      <th>5557</th>\n",
       "      <th>5558</th>\n",
       "      <th>5560</th>\n",
       "      <th>5562</th>\n",
       "      <th>5565</th>\n",
       "      <th>5582</th>\n",
       "      <th>5583</th>\n",
       "      <th>5585</th>\n",
       "      <th>...</th>\n",
       "      <th>33062</th>\n",
       "      <th>33064</th>\n",
       "      <th>33065</th>\n",
       "      <th>33066</th>\n",
       "      <th>33067</th>\n",
       "      <th>33068</th>\n",
       "      <th>33069</th>\n",
       "      <th>33070</th>\n",
       "      <th>33071</th>\n",
       "      <th>33072</th>\n",
       "    </tr>\n",
       "    <tr>\n",
       "      <th>country_id</th>\n",
       "      <th></th>\n",
       "      <th></th>\n",
       "      <th></th>\n",
       "      <th></th>\n",
       "      <th></th>\n",
       "      <th></th>\n",
       "      <th></th>\n",
       "      <th></th>\n",
       "      <th></th>\n",
       "      <th></th>\n",
       "      <th></th>\n",
       "      <th></th>\n",
       "      <th></th>\n",
       "      <th></th>\n",
       "      <th></th>\n",
       "      <th></th>\n",
       "      <th></th>\n",
       "      <th></th>\n",
       "      <th></th>\n",
       "      <th></th>\n",
       "      <th></th>\n",
       "    </tr>\n",
       "  </thead>\n",
       "  <tbody>\n",
       "    <tr>\n",
       "      <th>1</th>\n",
       "      <td>0.000000</td>\n",
       "      <td>0.0</td>\n",
       "      <td>0.0</td>\n",
       "      <td>0.000000</td>\n",
       "      <td>0.0</td>\n",
       "      <td>0.0</td>\n",
       "      <td>0.0</td>\n",
       "      <td>0.000000</td>\n",
       "      <td>0.0</td>\n",
       "      <td>0.0</td>\n",
       "      <td>...</td>\n",
       "      <td>0.0</td>\n",
       "      <td>0.000000</td>\n",
       "      <td>0.000000</td>\n",
       "      <td>0.0</td>\n",
       "      <td>0.0</td>\n",
       "      <td>0.0</td>\n",
       "      <td>0.0</td>\n",
       "      <td>0.0</td>\n",
       "      <td>0.0</td>\n",
       "      <td>0.0</td>\n",
       "    </tr>\n",
       "    <tr>\n",
       "      <th>2</th>\n",
       "      <td>0.000000</td>\n",
       "      <td>0.0</td>\n",
       "      <td>0.0</td>\n",
       "      <td>0.000000</td>\n",
       "      <td>0.0</td>\n",
       "      <td>0.0</td>\n",
       "      <td>0.0</td>\n",
       "      <td>3.643437</td>\n",
       "      <td>0.0</td>\n",
       "      <td>0.0</td>\n",
       "      <td>...</td>\n",
       "      <td>0.0</td>\n",
       "      <td>0.000000</td>\n",
       "      <td>0.000000</td>\n",
       "      <td>0.0</td>\n",
       "      <td>0.0</td>\n",
       "      <td>0.0</td>\n",
       "      <td>0.0</td>\n",
       "      <td>0.0</td>\n",
       "      <td>0.0</td>\n",
       "      <td>0.0</td>\n",
       "    </tr>\n",
       "    <tr>\n",
       "      <th>4</th>\n",
       "      <td>2.546472</td>\n",
       "      <td>0.0</td>\n",
       "      <td>0.0</td>\n",
       "      <td>3.597833</td>\n",
       "      <td>0.0</td>\n",
       "      <td>0.0</td>\n",
       "      <td>0.0</td>\n",
       "      <td>0.000000</td>\n",
       "      <td>0.0</td>\n",
       "      <td>0.0</td>\n",
       "      <td>...</td>\n",
       "      <td>0.0</td>\n",
       "      <td>0.000000</td>\n",
       "      <td>0.000000</td>\n",
       "      <td>0.0</td>\n",
       "      <td>0.0</td>\n",
       "      <td>0.0</td>\n",
       "      <td>0.0</td>\n",
       "      <td>0.0</td>\n",
       "      <td>0.0</td>\n",
       "      <td>0.0</td>\n",
       "    </tr>\n",
       "    <tr>\n",
       "      <th>5</th>\n",
       "      <td>0.000000</td>\n",
       "      <td>0.0</td>\n",
       "      <td>0.0</td>\n",
       "      <td>3.175760</td>\n",
       "      <td>0.0</td>\n",
       "      <td>0.0</td>\n",
       "      <td>0.0</td>\n",
       "      <td>0.000000</td>\n",
       "      <td>0.0</td>\n",
       "      <td>0.0</td>\n",
       "      <td>...</td>\n",
       "      <td>0.0</td>\n",
       "      <td>0.000000</td>\n",
       "      <td>0.000000</td>\n",
       "      <td>0.0</td>\n",
       "      <td>0.0</td>\n",
       "      <td>0.0</td>\n",
       "      <td>0.0</td>\n",
       "      <td>0.0</td>\n",
       "      <td>0.0</td>\n",
       "      <td>0.0</td>\n",
       "    </tr>\n",
       "    <tr>\n",
       "      <th>6</th>\n",
       "      <td>0.000000</td>\n",
       "      <td>0.0</td>\n",
       "      <td>0.0</td>\n",
       "      <td>0.000000</td>\n",
       "      <td>0.0</td>\n",
       "      <td>0.0</td>\n",
       "      <td>0.0</td>\n",
       "      <td>0.000000</td>\n",
       "      <td>0.0</td>\n",
       "      <td>0.0</td>\n",
       "      <td>...</td>\n",
       "      <td>0.0</td>\n",
       "      <td>1.138153</td>\n",
       "      <td>0.961264</td>\n",
       "      <td>0.0</td>\n",
       "      <td>0.0</td>\n",
       "      <td>0.0</td>\n",
       "      <td>0.0</td>\n",
       "      <td>0.0</td>\n",
       "      <td>0.0</td>\n",
       "      <td>0.0</td>\n",
       "    </tr>\n",
       "  </tbody>\n",
       "</table>\n",
       "<p>5 rows × 2110 columns</p>\n",
       "</div>"
      ],
      "text/plain": [
       "song_id        5552   5553   5557      5558   5560   5562   5565      5582   \\\n",
       "country_id                                                                    \n",
       "1           0.000000    0.0    0.0  0.000000    0.0    0.0    0.0  0.000000   \n",
       "2           0.000000    0.0    0.0  0.000000    0.0    0.0    0.0  3.643437   \n",
       "4           2.546472    0.0    0.0  3.597833    0.0    0.0    0.0  0.000000   \n",
       "5           0.000000    0.0    0.0  3.175760    0.0    0.0    0.0  0.000000   \n",
       "6           0.000000    0.0    0.0  0.000000    0.0    0.0    0.0  0.000000   \n",
       "\n",
       "song_id     5583   5585   ...    33062     33064     33065  33066  33067  \\\n",
       "country_id                ...                                              \n",
       "1             0.0    0.0  ...      0.0  0.000000  0.000000    0.0    0.0   \n",
       "2             0.0    0.0  ...      0.0  0.000000  0.000000    0.0    0.0   \n",
       "4             0.0    0.0  ...      0.0  0.000000  0.000000    0.0    0.0   \n",
       "5             0.0    0.0  ...      0.0  0.000000  0.000000    0.0    0.0   \n",
       "6             0.0    0.0  ...      0.0  1.138153  0.961264    0.0    0.0   \n",
       "\n",
       "song_id     33068  33069  33070  33071  33072  \n",
       "country_id                                     \n",
       "1             0.0    0.0    0.0    0.0    0.0  \n",
       "2             0.0    0.0    0.0    0.0    0.0  \n",
       "4             0.0    0.0    0.0    0.0    0.0  \n",
       "5             0.0    0.0    0.0    0.0    0.0  \n",
       "6             0.0    0.0    0.0    0.0    0.0  \n",
       "\n",
       "[5 rows x 2110 columns]"
      ]
     },
     "execution_count": 143,
     "metadata": {},
     "output_type": "execute_result"
    }
   ],
   "source": [
    "ratings_matrix = RatingsMatrix(n_top_songs=10000, eps=1e3)\n",
    "ratings_matrix.R_ui.head()"
   ]
  },
  {
   "cell_type": "markdown",
   "metadata": {
    "collapsed": true
   },
   "source": [
    "Next, let's get an idea of the sparsity of our data and how many songs each country has streamed."
   ]
  },
  {
   "cell_type": "code",
   "execution_count": 144,
   "metadata": {},
   "outputs": [
    {
     "name": "stdout",
     "output_type": "stream",
     "text": [
      "Our ratings matrix has 7.3999999999999995% non-zero entries.\n"
     ]
    }
   ],
   "source": [
    "sparsity = (ratings_matrix.R_ui == 0).mean().mean()\n",
    "non_zero_entries_percent = 100*np.round(1 - sparsity, 4)\n",
    "\n",
    "print('Our ratings matrix has {}% non-zero entries.'.format(non_zero_entries_percent))"
   ]
  },
  {
   "cell_type": "code",
   "execution_count": 145,
   "metadata": {},
   "outputs": [
    {
     "name": "stdout",
     "output_type": "stream",
     "text": [
      "Our ratings matrix contains 55 countries and 2110 unique songs.\n"
     ]
    }
   ],
   "source": [
    "print('Our ratings matrix contains {} countries and {} unique songs.'.format(*ratings_matrix.R_ui.shape))"
   ]
  },
  {
   "cell_type": "code",
   "execution_count": 146,
   "metadata": {},
   "outputs": [
    {
     "data": {
      "image/png": "[encoded data removed]",
      "text/plain": [
       "<matplotlib.figure.Figure at 0x11b8bec18>"
      ]
     },
     "metadata": {},
     "output_type": "display_data"
    }
   ],
   "source": [
    "plt.figure(figsize=(10, 6))\n",
    "\n",
    "songs_rated_by_country = (ratings_matrix.R_ui > 0).sum(axis=1)\n",
    "plt.hist(songs_rated_by_country)\n",
    "plt.title('Distribution of # of Unique Songs Streamed per Country', fontsize=15)\n",
    "plt.xlabel('Unique Songs Streamed', fontsize=12)\n",
    "_ = plt.ylabel('# of Countries', fontsize=12)"
   ]
  },
  {
   "cell_type": "markdown",
   "metadata": {},
   "source": [
    "## Construct training, validation sets\n",
    "\n",
    "In reviewing literature on recommender engine evaluation, it seems common to create training and validation sets as follows:\n",
    "1. Filter your ratings matrix for users (countries) that meet some criterion, i.e. they've streamed above a certain threshold of songs.\n",
    "2. Select a random $x\\%$ of their items (songs).\n",
    "3. \"Move\" these items into a validation matrix; set them to 0 in the training matrix.\n",
    "\n",
    "To construct this split, I first compute a sensible threshold for Step #1, then \"move\" a random 20% of songs from the training matrix to the validation matrix."
   ]
  },
  {
   "cell_type": "code",
   "execution_count": 147,
   "metadata": {},
   "outputs": [
    {
     "name": "stdout",
     "output_type": "stream",
     "text": [
      "The 15th percentile of songs rated by country is 54.5.\n"
     ]
    }
   ],
   "source": [
    "print('The 15th percentile of songs rated by country is {}.'.format(\n",
    "    np.percentile(songs_rated_by_country, 15)\n",
    "))"
   ]
  },
  {
   "cell_type": "markdown",
   "metadata": {},
   "source": [
    "Let's choose 50 songs as our cutoff, and move 20% of the songs in qualifying rows to a validation set.\n",
    "\n",
    "NB: The actual ratings matrix is located at `RatingsMatrix.R_ui`. This reflects an API choice I made when first starting this project."
   ]
  },
  {
   "cell_type": "code",
   "execution_count": 12,
   "metadata": {
    "collapsed": true
   },
   "outputs": [],
   "source": [
    "def split_ratings_matrix_into_training_and_validation(ratings_matrix, eligibility_mask, fraction_to_drop=.2):\n",
    "    training_matrix = ratings_matrix\n",
    "    validation_matrix = deepcopy(training_matrix)\n",
    "    validation_matrix.R_ui = pd.DataFrame(0., index=training_matrix.R_ui.index, columns=training_matrix.R_ui.columns)\n",
    "\n",
    "    for country_id, ratings in training_matrix.R_ui[eligibility_mask].iterrows():\n",
    "        \n",
    "        rated_songs_mask = training_matrix.R_ui.ix[country_id] > 0\n",
    "        rated_songs = training_matrix.R_ui.ix[country_id][rated_songs_mask].index.tolist()\n",
    "        n_songs_to_drop = int( len(rated_songs)*fraction_to_drop )\n",
    "        songs_to_drop = set( random.sample(rated_songs, n_songs_to_drop) )\n",
    "        \n",
    "        validation_matrix.R_ui.ix[country_id][songs_to_drop] = training_matrix.R_ui.ix[country_id][songs_to_drop]\n",
    "        training_matrix.R_ui.ix[country_id][songs_to_drop] = 0.\n",
    "\n",
    "    return training_matrix, validation_matrix"
   ]
  },
  {
   "cell_type": "code",
   "execution_count": 152,
   "metadata": {
    "collapsed": true
   },
   "outputs": [],
   "source": [
    "more_than_50_ratings_mask = songs_rated_by_country > 50\n",
    "\n",
    "training_matrix, validation_matrix = split_ratings_matrix_into_training_and_validation(\n",
    "    ratings_matrix=ratings_matrix, \n",
    "    eligibility_mask=more_than_50_ratings_mask\n",
    ")"
   ]
  },
  {
   "cell_type": "markdown",
   "metadata": {},
   "source": [
    "# Evaluation\n",
    "\n",
    "Evaluating recommender systems is an inexact science because there is no \"right\" answer. In production, this evaluation is often done via the A/B test of a proxy metric important to the business - revenue, for example. In training, the process is less clear. To this end, the authors of the IMF paper offer the following:\n",
    "\n",
    "> Evaluation of implicit-feedback recommender requires appropriate measures. In the traditional setting where a user is specifying a numeric score, there are clear metrics such as mean squared error to measure success in prediction. However with implicit models we have to take into account availability of the item, competition for the item with other items, and repeat feedback. For example, if we gather data on television viewing, it is unclear how to evaluate a show that has been watched more than once, or how to compare two shows that are on at the same time, and hence cannot both be watched by the user.\n",
    "\n",
    "Additionally, they state:\n",
    "\n",
    "> It is important to realize that we do not have a reliable feedback regarding which programs are unloved, as not watching a program can stem from multiple different reasons. In addition, we are currently unable to track user reactions to our recommendations. Thus, precision based metrics are not very appropriate, as they require knowing which programs are undesired to a user. However, watching a program is an indication of liking it, making recall-oriented measures applicable.\n",
    "\n",
    "In solution, they propose evaluating the \"expected percentile ranking\" defined as follows:\n",
    "\n",
    "$$\n",
    "\\overline{\\text{rank}} = \\frac{\\sum_{u, i}\\tilde{r}_{u, i}^t\\text{rank}_{u, i}}{\\sum_{u, i}\\tilde{r}_{u, i}^t}\n",
    "$$\n",
    "\n",
    "Here, $\\text{rank}_{u, i}$ gives the percentile-ranking of the predicted preference, i.e. if $\\hat{p}_{u = 17, i = 34}$ is the largest of all predicted preferences, then $\\text{rank}_{u = 17, i = 34} = 0\\%$. Similarly, the smallest of the predicted preferences, i.e. the last on the list, equals $100\\%$.\n",
    "\n",
    "The following class accepts a training matrix, validation matrix and a matrix of predicted preferences. It then exposes the mean expected percentile ranking for both training and validation sets as properties on the instance."
   ]
  },
  {
   "cell_type": "code",
   "execution_count": 6,
   "metadata": {
    "collapsed": true
   },
   "outputs": [],
   "source": [
    "class ExpectedPercentileRankingsEvaluator:\n",
    "    \n",
    "    def __init__(self, training_matrix, validation_matrix, eligibility_mask, predicted_preferences):\n",
    "        self.training_matrix = training_matrix\n",
    "        self.validation_matrix = validation_matrix\n",
    "        self.eligibility_mask = eligibility_mask\n",
    "        self.predicted_preferences = predicted_preferences\n",
    "        self._expected_percentile_rankings_train = []\n",
    "        self._expected_percentile_rankings_validation = []\n",
    "        \n",
    "    def run(self):\n",
    "        self._evaluate_train()\n",
    "        self._evaluate_validation()\n",
    "\n",
    "    def _evaluate_train(self):\n",
    "        self._expected_percentile_rankings_train = self._evaluate(matrix=self.training_matrix)\n",
    "        \n",
    "    def _evaluate_validation(self):\n",
    "        self._expected_percentile_rankings_validation = self._evaluate(matrix=self.validation_matrix)\n",
    "        \n",
    "    def _evaluate(self, matrix):\n",
    "        expected_percentile_rankings = []\n",
    "        for country_id, preferences in self.predicted_preferences[self.eligibility_mask].iterrows():\n",
    "            predictions = pd.DataFrame({\n",
    "                'predicted_preference': preferences.sort_values(ascending=False),\n",
    "                'rank': np.arange( len(preferences) ),\n",
    "                'percentile_rank': np.arange( len(preferences) ) / len(preferences)\n",
    "            })\n",
    "            ground_truth = matrix.R_ui.ix[country_id][ matrix.R_ui.ix[country_id] > 0 ]\n",
    "            numerator = (ground_truth * predictions['percentile_rank'][ground_truth.index]).sum()\n",
    "            denominator = ground_truth.sum()\n",
    "            expected_percentile_rankings.append( numerator / denominator )\n",
    "\n",
    "        return expected_percentile_rankings\n",
    "\n",
    "    @property\n",
    "    def mean_expected_percentile_rankings_train(self):\n",
    "        return np.mean(self._expected_percentile_rankings_train)\n",
    "    \n",
    "    @property\n",
    "    def mean_expected_percentile_rankings_validation(self):\n",
    "        return np.mean(self._expected_percentile_rankings_validation)"
   ]
  },
  {
   "cell_type": "markdown",
   "metadata": {},
   "source": [
    "## Grid search\n",
    "\n",
    "Next, we perform a basic grid search to find reasonable values for $\\alpha$ and $\\lambda$."
   ]
  },
  {
   "cell_type": "code",
   "execution_count": null,
   "metadata": {
    "collapsed": true
   },
   "outputs": [],
   "source": [
    "F = 30\n",
    "grid_search_results = {}\n",
    "result = namedtuple('Result', 'alpha lmbda')\n",
    "alpha_values = [1e-1, 1e0, 1e1, 1e2]\n",
    "lmbda_values = [1e-1, 1e0, 1e1, 1e2]\n",
    "\n",
    "for alpha in alpha_values:\n",
    "    for lmbda in lmbda_values:\n",
    "        implicit_mf = ImplicitMF(ratings_matrix=training_matrix, f=F, alpha=alpha, lmbda=lmbda)\n",
    "        implicit_mf.run()\n",
    "        predicted_preferences = implicit_mf.country_vectors.vectors.dot( implicit_mf.song_vectors.vectors.T )\n",
    "        \n",
    "        evaluator = ExpectedPercentileRankingsEvaluator(\n",
    "            training_matrix=training_matrix,\n",
    "            validation_matrix=validation_matrix,\n",
    "            eligibility_mask=more_than_50_ratings_mask,\n",
    "            predicted_preferences=predicted_preferences\n",
    "        )\n",
    "        evaluator.run()\n",
    "        grid_search_results[result(alpha=alpha, lmbda=lmbda)] = {\n",
    "            'train': evaluator.mean_expected_percentile_rankings_train,\n",
    "            'validation': evaluator.mean_expected_percentile_rankings_validation\n",
    "        }\n",
    "        print(grid_search_results)"
   ]
  },
  {
   "cell_type": "markdown",
   "metadata": {},
   "source": [
    "Let's visualize the results for clarity. I plot the opposite of the validation score such that the parameters corresponding to the *darkest* square are most favorable."
   ]
  },
  {
   "cell_type": "code",
   "execution_count": 159,
   "metadata": {
    "scrolled": false
   },
   "outputs": [
    {
     "data": {
      "image/png": "[encoded data removed]",
      "text/plain": [
       "<matplotlib.figure.Figure at 0x122032b70>"
      ]
     },
     "metadata": {},
     "output_type": "display_data"
    }
   ],
   "source": [
    "grid_search_items = [(params, results) for params, results in grid_search_results.items()]\n",
    "grid_search_items.sort(key=lambda tup: tup[0].alpha)\n",
    "\n",
    "params, results = zip(*grid_search_items)\n",
    "validation_results = np.array([result['validation'] for result in results]).reshape(4, 4)\n",
    "\n",
    "plt.figure(figsize=(15, 10))\n",
    "plt.xticks([])\n",
    "plt.yticks([])\n",
    "plt.pcolormesh(-validation_results, cmap='Reds')\n",
    "plt.colorbar()\n",
    "for alpha_index, alpha in enumerate(alpha_values):\n",
    "    for lbmda_index, lmbda in enumerate(lmbda_values):\n",
    "        plt.text(\n",
    "            x = lbmda_index + 0.5,\n",
    "            y = alpha_index + 0.5,\n",
    "            s = r'$\\alpha$ = {}'.format(alpha) + '\\n' + r'$\\lambda$ = {}'.format(lmbda), \n",
    "            ha='center', \n",
    "            va='center', \n",
    "            size=15, \n",
    "            color='w'\n",
    "        )\n",
    "plt.title('Grid Search Results', fontsize=15)\n",
    "plt.xlabel(r'$\\lambda$ Values', fontsize=14)\n",
    "_ = plt.ylabel(r'$\\alpha$ Values', fontsize=14)"
   ]
  },
  {
   "cell_type": "code",
   "execution_count": 58,
   "metadata": {},
   "outputs": [
    {
     "name": "stdout",
     "output_type": "stream",
     "text": [
      "The best parameters were found to be: Result(alpha=0.1, lmbda=10.0).\n"
     ]
    }
   ],
   "source": [
    "best_params = min(grid_search_results, key=lambda key: grid_search_results.get(key)['validation'])\n",
    "print('The best parameters were found to be: {}.'.format(best_params))"
   ]
  },
  {
   "cell_type": "markdown",
   "metadata": {
    "collapsed": true
   },
   "source": [
    "# Train a final model\n",
    "\n",
    "Using these parameters, let's train a final implicit matrix factorization model using 1,000,000 top songs. Additionally, we'll choose $\\epsilon = 1,000$ which seemed to work best in simple experimentation. This experimentation is not shown here."
   ]
  },
  {
   "cell_type": "code",
   "execution_count": 7,
   "metadata": {
    "collapsed": true
   },
   "outputs": [],
   "source": [
    "ratings_matrix = RatingsMatrix(n_top_songs=1000000, eps=1e3)"
   ]
  },
  {
   "cell_type": "code",
   "execution_count": 163,
   "metadata": {},
   "outputs": [
    {
     "name": "stdout",
     "output_type": "stream",
     "text": [
      "Our ratings matrix contains 55 countries and 8663 unique songs.\n"
     ]
    }
   ],
   "source": [
    "print('Our ratings matrix contains {} countries and {} unique songs.'.format(*ratings_matrix.R_ui.shape))"
   ]
  },
  {
   "cell_type": "code",
   "execution_count": null,
   "metadata": {
    "collapsed": true
   },
   "outputs": [],
   "source": [
    "implicit_mf = ImplicitMF(ratings_matrix=ratings_matrix, f=F, alpha=best_params.alpha, lmbda=best_params.lmbda)\n",
    "implicit_mf.run()"
   ]
  },
  {
   "cell_type": "markdown",
   "metadata": {
    "collapsed": true
   },
   "source": [
    "# Visualize\n",
    "\n",
    "Let's plot the cosine similarities between all pairs of countries to confirm that things make sense. Intuitively, I'd think that countries in the following groups should be similar:\n",
    "- United States, United Kingdom, Canada, Australia, New Zealand\n",
    "- Latin American countries\n",
    "- Sweden, Finland, Norway, Denmark"
   ]
  },
  {
   "cell_type": "markdown",
   "metadata": {},
   "source": [
    "First let's replace the index of our vectors such that it contains the country names."
   ]
  },
  {
   "cell_type": "code",
   "execution_count": 165,
   "metadata": {},
   "outputs": [
    {
     "data": {
      "text/html": [
       "<div>\n",
       "<table border=\"1\" class=\"dataframe\">\n",
       "  <thead>\n",
       "    <tr style=\"text-align: right;\">\n",
       "      <th></th>\n",
       "      <th>dim_0</th>\n",
       "      <th>dim_1</th>\n",
       "      <th>dim_2</th>\n",
       "      <th>dim_3</th>\n",
       "      <th>dim_4</th>\n",
       "      <th>dim_5</th>\n",
       "      <th>dim_6</th>\n",
       "      <th>dim_7</th>\n",
       "      <th>dim_8</th>\n",
       "      <th>dim_9</th>\n",
       "      <th>...</th>\n",
       "      <th>dim_20</th>\n",
       "      <th>dim_21</th>\n",
       "      <th>dim_22</th>\n",
       "      <th>dim_23</th>\n",
       "      <th>dim_24</th>\n",
       "      <th>dim_25</th>\n",
       "      <th>dim_26</th>\n",
       "      <th>dim_27</th>\n",
       "      <th>dim_28</th>\n",
       "      <th>dim_29</th>\n",
       "    </tr>\n",
       "    <tr>\n",
       "      <th>country_name</th>\n",
       "      <th></th>\n",
       "      <th></th>\n",
       "      <th></th>\n",
       "      <th></th>\n",
       "      <th></th>\n",
       "      <th></th>\n",
       "      <th></th>\n",
       "      <th></th>\n",
       "      <th></th>\n",
       "      <th></th>\n",
       "      <th></th>\n",
       "      <th></th>\n",
       "      <th></th>\n",
       "      <th></th>\n",
       "      <th></th>\n",
       "      <th></th>\n",
       "      <th></th>\n",
       "      <th></th>\n",
       "      <th></th>\n",
       "      <th></th>\n",
       "      <th></th>\n",
       "    </tr>\n",
       "  </thead>\n",
       "  <tbody>\n",
       "    <tr>\n",
       "      <th>United States</th>\n",
       "      <td>-1.276051</td>\n",
       "      <td>-1.058583</td>\n",
       "      <td>-0.622779</td>\n",
       "      <td>0.430231</td>\n",
       "      <td>0.306830</td>\n",
       "      <td>0.966786</td>\n",
       "      <td>0.190530</td>\n",
       "      <td>-0.549356</td>\n",
       "      <td>0.538788</td>\n",
       "      <td>-0.722162</td>\n",
       "      <td>...</td>\n",
       "      <td>0.057478</td>\n",
       "      <td>0.500288</td>\n",
       "      <td>0.799253</td>\n",
       "      <td>0.383243</td>\n",
       "      <td>0.575051</td>\n",
       "      <td>0.247066</td>\n",
       "      <td>0.548018</td>\n",
       "      <td>-0.238643</td>\n",
       "      <td>0.114481</td>\n",
       "      <td>0.731294</td>\n",
       "    </tr>\n",
       "    <tr>\n",
       "      <th>United Kingdom</th>\n",
       "      <td>0.106521</td>\n",
       "      <td>0.346207</td>\n",
       "      <td>-0.276669</td>\n",
       "      <td>-0.003249</td>\n",
       "      <td>-1.294024</td>\n",
       "      <td>-0.090318</td>\n",
       "      <td>0.666301</td>\n",
       "      <td>-0.533962</td>\n",
       "      <td>0.281620</td>\n",
       "      <td>-0.268332</td>\n",
       "      <td>...</td>\n",
       "      <td>-0.803658</td>\n",
       "      <td>-0.498773</td>\n",
       "      <td>-0.041302</td>\n",
       "      <td>-0.705815</td>\n",
       "      <td>0.624482</td>\n",
       "      <td>-0.007293</td>\n",
       "      <td>1.335080</td>\n",
       "      <td>-0.717667</td>\n",
       "      <td>0.019507</td>\n",
       "      <td>-1.700016</td>\n",
       "    </tr>\n",
       "    <tr>\n",
       "      <th>Argentina</th>\n",
       "      <td>-0.871966</td>\n",
       "      <td>0.678408</td>\n",
       "      <td>0.343354</td>\n",
       "      <td>-0.968614</td>\n",
       "      <td>-1.099471</td>\n",
       "      <td>0.014175</td>\n",
       "      <td>0.031833</td>\n",
       "      <td>-0.370821</td>\n",
       "      <td>-0.114270</td>\n",
       "      <td>-0.982766</td>\n",
       "      <td>...</td>\n",
       "      <td>0.435942</td>\n",
       "      <td>-0.170878</td>\n",
       "      <td>-0.172491</td>\n",
       "      <td>-0.158596</td>\n",
       "      <td>0.445267</td>\n",
       "      <td>-0.949628</td>\n",
       "      <td>0.542433</td>\n",
       "      <td>-0.157643</td>\n",
       "      <td>0.765119</td>\n",
       "      <td>0.587947</td>\n",
       "    </tr>\n",
       "    <tr>\n",
       "      <th>Australia</th>\n",
       "      <td>-1.129085</td>\n",
       "      <td>0.212391</td>\n",
       "      <td>0.136416</td>\n",
       "      <td>-0.665215</td>\n",
       "      <td>0.452084</td>\n",
       "      <td>-0.418566</td>\n",
       "      <td>-0.187979</td>\n",
       "      <td>0.807976</td>\n",
       "      <td>-0.693282</td>\n",
       "      <td>-0.723989</td>\n",
       "      <td>...</td>\n",
       "      <td>-0.961785</td>\n",
       "      <td>-0.064047</td>\n",
       "      <td>-0.161033</td>\n",
       "      <td>0.211444</td>\n",
       "      <td>0.180285</td>\n",
       "      <td>0.597487</td>\n",
       "      <td>-0.143220</td>\n",
       "      <td>0.336241</td>\n",
       "      <td>-0.251201</td>\n",
       "      <td>-1.057264</td>\n",
       "    </tr>\n",
       "    <tr>\n",
       "      <th>Austria</th>\n",
       "      <td>-0.094485</td>\n",
       "      <td>0.870111</td>\n",
       "      <td>-0.328650</td>\n",
       "      <td>-0.594735</td>\n",
       "      <td>-0.429165</td>\n",
       "      <td>-0.955718</td>\n",
       "      <td>0.151173</td>\n",
       "      <td>0.250305</td>\n",
       "      <td>-0.302996</td>\n",
       "      <td>0.718965</td>\n",
       "      <td>...</td>\n",
       "      <td>-0.409435</td>\n",
       "      <td>-0.381884</td>\n",
       "      <td>-0.144373</td>\n",
       "      <td>0.340587</td>\n",
       "      <td>0.006711</td>\n",
       "      <td>0.870717</td>\n",
       "      <td>0.067101</td>\n",
       "      <td>-0.361675</td>\n",
       "      <td>0.742727</td>\n",
       "      <td>1.341254</td>\n",
       "    </tr>\n",
       "  </tbody>\n",
       "</table>\n",
       "<p>5 rows × 30 columns</p>\n",
       "</div>"
      ],
      "text/plain": [
       "                   dim_0     dim_1     dim_2     dim_3     dim_4     dim_5  \\\n",
       "country_name                                                                 \n",
       "United States  -1.276051 -1.058583 -0.622779  0.430231  0.306830  0.966786   \n",
       "United Kingdom  0.106521  0.346207 -0.276669 -0.003249 -1.294024 -0.090318   \n",
       "Argentina      -0.871966  0.678408  0.343354 -0.968614 -1.099471  0.014175   \n",
       "Australia      -1.129085  0.212391  0.136416 -0.665215  0.452084 -0.418566   \n",
       "Austria        -0.094485  0.870111 -0.328650 -0.594735 -0.429165 -0.955718   \n",
       "\n",
       "                   dim_6     dim_7     dim_8     dim_9    ...       dim_20  \\\n",
       "country_name                                              ...                \n",
       "United States   0.190530 -0.549356  0.538788 -0.722162    ...     0.057478   \n",
       "United Kingdom  0.666301 -0.533962  0.281620 -0.268332    ...    -0.803658   \n",
       "Argentina       0.031833 -0.370821 -0.114270 -0.982766    ...     0.435942   \n",
       "Australia      -0.187979  0.807976 -0.693282 -0.723989    ...    -0.961785   \n",
       "Austria         0.151173  0.250305 -0.302996  0.718965    ...    -0.409435   \n",
       "\n",
       "                  dim_21    dim_22    dim_23    dim_24    dim_25    dim_26  \\\n",
       "country_name                                                                 \n",
       "United States   0.500288  0.799253  0.383243  0.575051  0.247066  0.548018   \n",
       "United Kingdom -0.498773 -0.041302 -0.705815  0.624482 -0.007293  1.335080   \n",
       "Argentina      -0.170878 -0.172491 -0.158596  0.445267 -0.949628  0.542433   \n",
       "Australia      -0.064047 -0.161033  0.211444  0.180285  0.597487 -0.143220   \n",
       "Austria        -0.381884 -0.144373  0.340587  0.006711  0.870717  0.067101   \n",
       "\n",
       "                  dim_27    dim_28    dim_29  \n",
       "country_name                                  \n",
       "United States  -0.238643  0.114481  0.731294  \n",
       "United Kingdom -0.717667  0.019507 -1.700016  \n",
       "Argentina      -0.157643  0.765119  0.587947  \n",
       "Australia       0.336241 -0.251201 -1.057264  \n",
       "Austria        -0.361675  0.742727  1.341254  \n",
       "\n",
       "[5 rows x 30 columns]"
      ]
     },
     "execution_count": 165,
     "metadata": {},
     "output_type": "execute_result"
    }
   ],
   "source": [
    "country_vectors_df = implicit_mf.country_vectors.vectors.copy()\n",
    "\n",
    "country_id_to_name = {countries_lookup[name]['id']: name for name in countries_lookup}\n",
    "country_ids = country_vectors_df.index\n",
    "country_names = pd.Index([country_id_to_name[c_id] for c_id in country_ids], name='country_name')\n",
    "country_vectors_df.index = country_names\n",
    "\n",
    "country_vectors_df.head()"
   ]
  },
  {
   "cell_type": "markdown",
   "metadata": {},
   "source": [
    "Then, we'll plot the cosine similarities."
   ]
  },
  {
   "cell_type": "code",
   "execution_count": 166,
   "metadata": {
    "collapsed": true
   },
   "outputs": [],
   "source": [
    "sns.set(style=\"white\")\n",
    "\n",
    "def plot_cosine_similarities(country_vectors_df):\n",
    "\n",
    "    similarities_df = pd.DataFrame(\n",
    "        data=cosine_similarity(country_vectors_df),\n",
    "        index=country_vectors_df.index,\n",
    "        columns=country_vectors_df.index\n",
    "    )\n",
    "    \n",
    "    lower_triangle_mask = np.zeros_like(similarities_df, dtype=np.bool)\n",
    "    lower_triangle_mask[np.triu_indices_from(lower_triangle_mask)] = True\n",
    "\n",
    "    f, ax = plt.subplots(figsize=(21, 21))\n",
    "    cmap = sns.diverging_palette(220, 10, as_cmap=True)\n",
    "\n",
    "    sns.heatmap(\n",
    "        similarities_df, \n",
    "        mask=lower_triangle_mask, \n",
    "        cmap=cmap, \n",
    "        vmax=.5,\n",
    "        square=True, \n",
    "        xticklabels=True, \n",
    "        yticklabels=True,\n",
    "        linewidths=1, \n",
    "        cbar_kws={\"shrink\": .5}, \n",
    "        ax=ax,\n",
    "    )\n",
    "    ax.set_title('Cosine Similarity Matrix', fontsize=20)"
   ]
  },
  {
   "cell_type": "code",
   "execution_count": 167,
   "metadata": {
    "scrolled": false
   },
   "outputs": [
    {
     "data": {
      "image/png": "[encoded data removed]",
      "text/plain": [
       "<matplotlib.figure.Figure at 0x11ae08a90>"
      ]
     },
     "metadata": {},
     "output_type": "display_data"
    }
   ],
   "source": [
    "plot_cosine_similarities(country_vectors_df)"
   ]
  },
  {
   "cell_type": "markdown",
   "metadata": {},
   "source": [
    "I first turn to my favorite country - Colombia - to inspect its similarity with other Latin American countries. The numbers are high for: Peru, Paraguay, Panama, Nicaragua, Gautemala, Ecuador, Dominican Republic and Costa Rica.\n",
    "\n",
    "Next, I turn to the United Kingdom: it is most similar with Switzerland, New Zealand, Ireland, Hungary, Belgium and Australia.\n",
    "\n",
    "Finally, we see that Sweden is similar enough to Norway, yet not Finland (who, incidentally, seems to have nothing in common with anyone at all).\n",
    "\n",
    "Overall, this looks very good to me."
   ]
  },
  {
   "cell_type": "markdown",
   "metadata": {},
   "source": [
    "# Visualize with TSNE\n",
    "\n",
    "To further inspect similarities between countries, let's explore the 2-dimensional TSNE space."
   ]
  },
  {
   "cell_type": "code",
   "execution_count": 205,
   "metadata": {
    "collapsed": true
   },
   "outputs": [],
   "source": [
    "tsne = TSNE(perplexity=30, n_components=2, init='pca', n_iter=5000, random_state=12345)\n",
    "\n",
    "country_embeddings = pd.DataFrame(\n",
    "    data=tsne.fit_transform(country_vectors_df),\n",
    "    index=country_vectors_df.index,\n",
    "    columns=['dim_1', 'dim_2']\n",
    ")"
   ]
  },
  {
   "cell_type": "code",
   "execution_count": 206,
   "metadata": {
    "collapsed": true
   },
   "outputs": [],
   "source": [
    "def plot_tsne_embeddings(country_embeddings):\n",
    "\n",
    "    plt.figure(figsize=(15,15))\n",
    "\n",
    "    for country_name, country_embedding in country_embeddings.iterrows():\n",
    "        dim_1, dim_2 = country_embedding\n",
    "        plt.scatter(dim_1, dim_2)\n",
    "        plt.annotate(country_name, xy=(dim_1, dim_2), xytext=(5, 2), textcoords='offset points', ha='right', va='bottom')\n",
    "        plt.title('Two-Dimensional TSNE Embeddings of Latent Country Vectors', fontsize=16)\n",
    "        plt.xlabel('Dimension 1', fontsize=12)\n",
    "        plt.ylabel('Dimension 2', fontsize=12)\n",
    "    plt.show()"
   ]
  },
  {
   "cell_type": "code",
   "execution_count": 207,
   "metadata": {},
   "outputs": [
    {
     "data": {
      "image/png": "[encoded data removed]",
      "text/plain": [
       "<matplotlib.figure.Figure at 0x11ab54cf8>"
      ]
     },
     "metadata": {},
     "output_type": "display_data"
    }
   ],
   "source": [
    "plot_tsne_embeddings(country_embeddings)"
   ]
  },
  {
   "cell_type": "markdown",
   "metadata": {},
   "source": [
    "This is not particularly useful. Furthermore, and perhaps most importantly, the plot varies immensely when changing the random seed. This is a worthwhile step nonetheless."
   ]
  },
  {
   "cell_type": "markdown",
   "metadata": {},
   "source": [
    "# Inspect predicted preferences\n",
    "\n",
    "Crucially, we'll now inspect predicted preferences for select countries and confirm that they make sense. I first normalize each of the country and song vectors, then compute predicted preferences via the dot product."
   ]
  },
  {
   "cell_type": "code",
   "execution_count": null,
   "metadata": {
    "collapsed": true
   },
   "outputs": [],
   "source": [
    "SONG_METADATA_QUERY = \"\"\"\n",
    "    SELECT \n",
    "        songs.title as song_title, \n",
    "        songs.artist as song_artist,\n",
    "        songs.id as song_id\n",
    "    FROM songs\n",
    "\"\"\"\n",
    "\n",
    "song_metadata_df = pd.read_sql(SONG_METADATA_QUERY, ENGINE, index_col=['song_id'])\n",
    "\n",
    "song_vectors_df = song_metadata_df.join(implicit_mf.song_vectors.vectors, how='inner')\\\n",
    "    .set_index(['song_title', 'song_artist'])"
   ]
  },
  {
   "cell_type": "code",
   "execution_count": 209,
   "metadata": {
    "collapsed": true
   },
   "outputs": [],
   "source": [
    "song_vectors_df_norm = song_vectors_df.apply(lambda vec: vec / np.linalg.norm(vec), axis=1)\n",
    "country_vectors_df_norm = country_vectors_df.apply(lambda vec: vec / np.linalg.norm(vec), axis=1)\n",
    "\n",
    "assert song_vectors_df_norm.apply(np.linalg.norm, axis=1).mean() == 1.\n",
    "assert country_vectors_df_norm.apply(np.linalg.norm, axis=1).mean() == 1."
   ]
  },
  {
   "cell_type": "markdown",
   "metadata": {
    "collapsed": true
   },
   "source": [
    "## United States"
   ]
  },
  {
   "cell_type": "code",
   "execution_count": 210,
   "metadata": {
    "collapsed": true
   },
   "outputs": [],
   "source": [
    "pd.set_option('display.max_colwidth', 100)"
   ]
  },
  {
   "cell_type": "code",
   "execution_count": 211,
   "metadata": {},
   "outputs": [
    {
     "data": {
      "text/html": [
       "<div>\n",
       "<table border=\"1\" class=\"dataframe\">\n",
       "  <thead>\n",
       "    <tr style=\"text-align: right;\">\n",
       "      <th></th>\n",
       "      <th>song_title</th>\n",
       "      <th>song_artist</th>\n",
       "      <th>0</th>\n",
       "    </tr>\n",
       "  </thead>\n",
       "  <tbody>\n",
       "    <tr>\n",
       "      <th>0</th>\n",
       "      <td>Dab of Ranch - Recorded at Spotify Studios NYC</td>\n",
       "      <td>Migos</td>\n",
       "      <td>0.899299</td>\n",
       "    </tr>\n",
       "    <tr>\n",
       "      <th>1</th>\n",
       "      <td>Massage In My Room</td>\n",
       "      <td>Future</td>\n",
       "      <td>0.899299</td>\n",
       "    </tr>\n",
       "    <tr>\n",
       "      <th>2</th>\n",
       "      <td>Father Stretch My Hands Pt. 1</td>\n",
       "      <td>Kanye West</td>\n",
       "      <td>0.899299</td>\n",
       "    </tr>\n",
       "    <tr>\n",
       "      <th>3</th>\n",
       "      <td>Keep On</td>\n",
       "      <td>Kehlani</td>\n",
       "      <td>0.899299</td>\n",
       "    </tr>\n",
       "    <tr>\n",
       "      <th>4</th>\n",
       "      <td>First Day Out</td>\n",
       "      <td>Tee Grizzley</td>\n",
       "      <td>0.899299</td>\n",
       "    </tr>\n",
       "    <tr>\n",
       "      <th>5</th>\n",
       "      <td>When I Was Broke</td>\n",
       "      <td>Future</td>\n",
       "      <td>0.899299</td>\n",
       "    </tr>\n",
       "    <tr>\n",
       "      <th>6</th>\n",
       "      <td>Star Of The Show</td>\n",
       "      <td>Thomas Rhett</td>\n",
       "      <td>0.899299</td>\n",
       "    </tr>\n",
       "    <tr>\n",
       "      <th>7</th>\n",
       "      <td>Rose Golden</td>\n",
       "      <td>Kid Cudi</td>\n",
       "      <td>0.899299</td>\n",
       "    </tr>\n",
       "    <tr>\n",
       "      <th>8</th>\n",
       "      <td>oui</td>\n",
       "      <td>Jeremih</td>\n",
       "      <td>0.899299</td>\n",
       "    </tr>\n",
       "    <tr>\n",
       "      <th>9</th>\n",
       "      <td>Everyday We Lit</td>\n",
       "      <td>YFN Lucci</td>\n",
       "      <td>0.899299</td>\n",
       "    </tr>\n",
       "  </tbody>\n",
       "</table>\n",
       "</div>"
      ],
      "text/plain": [
       "                                       song_title   song_artist         0\n",
       "0  Dab of Ranch - Recorded at Spotify Studios NYC         Migos  0.899299\n",
       "1                              Massage In My Room        Future  0.899299\n",
       "2                   Father Stretch My Hands Pt. 1    Kanye West  0.899299\n",
       "3                                         Keep On       Kehlani  0.899299\n",
       "4                                   First Day Out  Tee Grizzley  0.899299\n",
       "5                                When I Was Broke        Future  0.899299\n",
       "6                                Star Of The Show  Thomas Rhett  0.899299\n",
       "7                                     Rose Golden      Kid Cudi  0.899299\n",
       "8                                             oui       Jeremih  0.899299\n",
       "9                                 Everyday We Lit     YFN Lucci  0.899299"
      ]
     },
     "execution_count": 211,
     "metadata": {},
     "output_type": "execute_result"
    }
   ],
   "source": [
    "country_vec = country_vectors_df_norm.ix['United States']\n",
    "song_vectors_df_norm.dot(country_vec).sort_values(ascending=False).reset_index().head(10)"
   ]
  },
  {
   "cell_type": "markdown",
   "metadata": {},
   "source": [
    "## Colombia"
   ]
  },
  {
   "cell_type": "code",
   "execution_count": 212,
   "metadata": {},
   "outputs": [
    {
     "data": {
      "text/html": [
       "<div>\n",
       "<table border=\"1\" class=\"dataframe\">\n",
       "  <thead>\n",
       "    <tr style=\"text-align: right;\">\n",
       "      <th></th>\n",
       "      <th>song_title</th>\n",
       "      <th>song_artist</th>\n",
       "      <th>0</th>\n",
       "    </tr>\n",
       "  </thead>\n",
       "  <tbody>\n",
       "    <tr>\n",
       "      <th>0</th>\n",
       "      <td>Ya No Me Duele Más</td>\n",
       "      <td>Silvestre Dangond</td>\n",
       "      <td>0.941204</td>\n",
       "    </tr>\n",
       "    <tr>\n",
       "      <th>1</th>\n",
       "      <td>Bajo el agua</td>\n",
       "      <td>Manuel Medrano</td>\n",
       "      <td>0.919997</td>\n",
       "    </tr>\n",
       "    <tr>\n",
       "      <th>2</th>\n",
       "      <td>Si No Te Quiere</td>\n",
       "      <td>Ozuna</td>\n",
       "      <td>0.916971</td>\n",
       "    </tr>\n",
       "    <tr>\n",
       "      <th>3</th>\n",
       "      <td>El Ganador</td>\n",
       "      <td>Nicky Jam</td>\n",
       "      <td>0.898030</td>\n",
       "    </tr>\n",
       "    <tr>\n",
       "      <th>4</th>\n",
       "      <td>Oiga, Mira, Vea</td>\n",
       "      <td>Guayacán Orquesta</td>\n",
       "      <td>0.897944</td>\n",
       "    </tr>\n",
       "    <tr>\n",
       "      <th>5</th>\n",
       "      <td>Mil Lágrimas</td>\n",
       "      <td>Nicky Jam</td>\n",
       "      <td>0.897863</td>\n",
       "    </tr>\n",
       "    <tr>\n",
       "      <th>6</th>\n",
       "      <td>Déjame Te Explico</td>\n",
       "      <td>Reykon</td>\n",
       "      <td>0.897396</td>\n",
       "    </tr>\n",
       "    <tr>\n",
       "      <th>7</th>\n",
       "      <td>Quédate</td>\n",
       "      <td>Manuel Medrano</td>\n",
       "      <td>0.896307</td>\n",
       "    </tr>\n",
       "    <tr>\n",
       "      <th>8</th>\n",
       "      <td>Afuera del planeta</td>\n",
       "      <td>Manuel Medrano</td>\n",
       "      <td>0.895686</td>\n",
       "    </tr>\n",
       "    <tr>\n",
       "      <th>9</th>\n",
       "      <td>Materialista</td>\n",
       "      <td>Silvestre Dangond</td>\n",
       "      <td>0.895501</td>\n",
       "    </tr>\n",
       "  </tbody>\n",
       "</table>\n",
       "</div>"
      ],
      "text/plain": [
       "           song_title        song_artist         0\n",
       "0  Ya No Me Duele Más  Silvestre Dangond  0.941204\n",
       "1        Bajo el agua     Manuel Medrano  0.919997\n",
       "2     Si No Te Quiere              Ozuna  0.916971\n",
       "3          El Ganador          Nicky Jam  0.898030\n",
       "4     Oiga, Mira, Vea  Guayacán Orquesta  0.897944\n",
       "5        Mil Lágrimas          Nicky Jam  0.897863\n",
       "6   Déjame Te Explico             Reykon  0.897396\n",
       "7             Quédate     Manuel Medrano  0.896307\n",
       "8  Afuera del planeta     Manuel Medrano  0.895686\n",
       "9        Materialista  Silvestre Dangond  0.895501"
      ]
     },
     "execution_count": 212,
     "metadata": {},
     "output_type": "execute_result"
    }
   ],
   "source": [
    "country_vec = country_vectors_df_norm.ix['Colombia']\n",
    "song_vectors_df_norm.dot(country_vec).sort_values(ascending=False).reset_index().head(10)"
   ]
  },
  {
   "cell_type": "markdown",
   "metadata": {},
   "source": [
    "## Turkey"
   ]
  },
  {
   "cell_type": "code",
   "execution_count": 213,
   "metadata": {},
   "outputs": [
    {
     "data": {
      "text/html": [
       "<div>\n",
       "<table border=\"1\" class=\"dataframe\">\n",
       "  <thead>\n",
       "    <tr style=\"text-align: right;\">\n",
       "      <th></th>\n",
       "      <th>song_title</th>\n",
       "      <th>song_artist</th>\n",
       "      <th>0</th>\n",
       "    </tr>\n",
       "  </thead>\n",
       "  <tbody>\n",
       "    <tr>\n",
       "      <th>0</th>\n",
       "      <td>Dudak</td>\n",
       "      <td>Edis</td>\n",
       "      <td>0.943574</td>\n",
       "    </tr>\n",
       "    <tr>\n",
       "      <th>1</th>\n",
       "      <td>Benim Karanlık Yanım</td>\n",
       "      <td>Sezen Aksu</td>\n",
       "      <td>0.943574</td>\n",
       "    </tr>\n",
       "    <tr>\n",
       "      <th>2</th>\n",
       "      <td>Affection</td>\n",
       "      <td>Cigarettes After Sex</td>\n",
       "      <td>0.943574</td>\n",
       "    </tr>\n",
       "    <tr>\n",
       "      <th>3</th>\n",
       "      <td>Ateş Böceği</td>\n",
       "      <td>Mithat Can Özer</td>\n",
       "      <td>0.943574</td>\n",
       "    </tr>\n",
       "    <tr>\n",
       "      <th>4</th>\n",
       "      <td>Beni Öyle Bilme</td>\n",
       "      <td>Ceylan Ertem</td>\n",
       "      <td>0.943574</td>\n",
       "    </tr>\n",
       "    <tr>\n",
       "      <th>5</th>\n",
       "      <td>Keyfim Kaçık Acık</td>\n",
       "      <td>Can Bonomo</td>\n",
       "      <td>0.943574</td>\n",
       "    </tr>\n",
       "    <tr>\n",
       "      <th>6</th>\n",
       "      <td>Seni Unutmaya Ömrüm Yeter mi</td>\n",
       "      <td>Ümit Besen</td>\n",
       "      <td>0.943574</td>\n",
       "    </tr>\n",
       "    <tr>\n",
       "      <th>7</th>\n",
       "      <td>Vazgeçtim</td>\n",
       "      <td>Sezen Aksu</td>\n",
       "      <td>0.943574</td>\n",
       "    </tr>\n",
       "    <tr>\n",
       "      <th>8</th>\n",
       "      <td>Yanımda Kal</td>\n",
       "      <td>Harun Kolçak</td>\n",
       "      <td>0.943574</td>\n",
       "    </tr>\n",
       "    <tr>\n",
       "      <th>9</th>\n",
       "      <td>Stanga</td>\n",
       "      <td>Sagi Abitbul</td>\n",
       "      <td>0.943574</td>\n",
       "    </tr>\n",
       "  </tbody>\n",
       "</table>\n",
       "</div>"
      ],
      "text/plain": [
       "                     song_title           song_artist         0\n",
       "0                         Dudak                  Edis  0.943574\n",
       "1          Benim Karanlık Yanım            Sezen Aksu  0.943574\n",
       "2                     Affection  Cigarettes After Sex  0.943574\n",
       "3                   Ateş Böceği       Mithat Can Özer  0.943574\n",
       "4               Beni Öyle Bilme          Ceylan Ertem  0.943574\n",
       "5             Keyfim Kaçık Acık            Can Bonomo  0.943574\n",
       "6  Seni Unutmaya Ömrüm Yeter mi            Ümit Besen  0.943574\n",
       "7                     Vazgeçtim            Sezen Aksu  0.943574\n",
       "8                   Yanımda Kal          Harun Kolçak  0.943574\n",
       "9                        Stanga          Sagi Abitbul  0.943574"
      ]
     },
     "execution_count": 213,
     "metadata": {},
     "output_type": "execute_result"
    }
   ],
   "source": [
    "country_vec = country_vectors_df_norm.ix['Turkey']\n",
    "song_vectors_df_norm.dot(country_vec).sort_values(ascending=False).reset_index().head(10)"
   ]
  },
  {
   "cell_type": "markdown",
   "metadata": {},
   "source": [
    "## Germany"
   ]
  },
  {
   "cell_type": "code",
   "execution_count": 214,
   "metadata": {},
   "outputs": [
    {
     "data": {
      "text/html": [
       "<div>\n",
       "<table border=\"1\" class=\"dataframe\">\n",
       "  <thead>\n",
       "    <tr style=\"text-align: right;\">\n",
       "      <th></th>\n",
       "      <th>song_title</th>\n",
       "      <th>song_artist</th>\n",
       "      <th>0</th>\n",
       "    </tr>\n",
       "  </thead>\n",
       "  <tbody>\n",
       "    <tr>\n",
       "      <th>0</th>\n",
       "      <td>Skandale</td>\n",
       "      <td>Bonez MC</td>\n",
       "      <td>0.908499</td>\n",
       "    </tr>\n",
       "    <tr>\n",
       "      <th>1</th>\n",
       "      <td>Ahnma</td>\n",
       "      <td>Beginner</td>\n",
       "      <td>0.906591</td>\n",
       "    </tr>\n",
       "    <tr>\n",
       "      <th>2</th>\n",
       "      <td>Am schönsten</td>\n",
       "      <td>SDP</td>\n",
       "      <td>0.906250</td>\n",
       "    </tr>\n",
       "    <tr>\n",
       "      <th>3</th>\n",
       "      <td>Tage wie diese</td>\n",
       "      <td>Die Toten Hosen</td>\n",
       "      <td>0.906250</td>\n",
       "    </tr>\n",
       "    <tr>\n",
       "      <th>4</th>\n",
       "      <td>Kartell (feat. Azet &amp; Nash)</td>\n",
       "      <td>Zuna</td>\n",
       "      <td>0.906250</td>\n",
       "    </tr>\n",
       "    <tr>\n",
       "      <th>5</th>\n",
       "      <td>Chill mal dein Leben (feat. Moe Phoenix)</td>\n",
       "      <td>Kianush</td>\n",
       "      <td>0.906250</td>\n",
       "    </tr>\n",
       "    <tr>\n",
       "      <th>6</th>\n",
       "      <td>Neuanfang</td>\n",
       "      <td>Clueso</td>\n",
       "      <td>0.906250</td>\n",
       "    </tr>\n",
       "    <tr>\n",
       "      <th>7</th>\n",
       "      <td>Neben der Spur</td>\n",
       "      <td>Maxwell</td>\n",
       "      <td>0.906250</td>\n",
       "    </tr>\n",
       "    <tr>\n",
       "      <th>8</th>\n",
       "      <td>Hochspannung</td>\n",
       "      <td>Maxwell</td>\n",
       "      <td>0.906250</td>\n",
       "    </tr>\n",
       "    <tr>\n",
       "      <th>9</th>\n",
       "      <td>Intro</td>\n",
       "      <td>Capital Bra</td>\n",
       "      <td>0.906250</td>\n",
       "    </tr>\n",
       "  </tbody>\n",
       "</table>\n",
       "</div>"
      ],
      "text/plain": [
       "                                 song_title      song_artist         0\n",
       "0                                  Skandale         Bonez MC  0.908499\n",
       "1                                     Ahnma         Beginner  0.906591\n",
       "2                              Am schönsten              SDP  0.906250\n",
       "3                            Tage wie diese  Die Toten Hosen  0.906250\n",
       "4               Kartell (feat. Azet & Nash)             Zuna  0.906250\n",
       "5  Chill mal dein Leben (feat. Moe Phoenix)          Kianush  0.906250\n",
       "6                                 Neuanfang           Clueso  0.906250\n",
       "7                            Neben der Spur          Maxwell  0.906250\n",
       "8                              Hochspannung          Maxwell  0.906250\n",
       "9                                     Intro      Capital Bra  0.906250"
      ]
     },
     "execution_count": 214,
     "metadata": {},
     "output_type": "execute_result"
    }
   ],
   "source": [
    "country_vec = country_vectors_df_norm.ix['Germany']\n",
    "song_vectors_df_norm.dot(country_vec).sort_values(ascending=False).reset_index().head(10)"
   ]
  },
  {
   "cell_type": "markdown",
   "metadata": {},
   "source": [
    "## Taiwan"
   ]
  },
  {
   "cell_type": "code",
   "execution_count": 215,
   "metadata": {},
   "outputs": [
    {
     "data": {
      "text/html": [
       "<div>\n",
       "<table border=\"1\" class=\"dataframe\">\n",
       "  <thead>\n",
       "    <tr style=\"text-align: right;\">\n",
       "      <th></th>\n",
       "      <th>song_title</th>\n",
       "      <th>song_artist</th>\n",
       "      <th>0</th>\n",
       "    </tr>\n",
       "  </thead>\n",
       "  <tbody>\n",
       "    <tr>\n",
       "      <th>0</th>\n",
       "      <td>如果的事</td>\n",
       "      <td>王藍茵</td>\n",
       "      <td>0.954455</td>\n",
       "    </tr>\n",
       "    <tr>\n",
       "      <th>1</th>\n",
       "      <td>小小的</td>\n",
       "      <td>思衛</td>\n",
       "      <td>0.954455</td>\n",
       "    </tr>\n",
       "    <tr>\n",
       "      <th>2</th>\n",
       "      <td>Heathens (feat. MUTEMATH)</td>\n",
       "      <td>Twenty One Pilots</td>\n",
       "      <td>0.954455</td>\n",
       "    </tr>\n",
       "    <tr>\n",
       "      <th>3</th>\n",
       "      <td>其實都沒有</td>\n",
       "      <td>楊宗緯</td>\n",
       "      <td>0.954455</td>\n",
       "    </tr>\n",
       "    <tr>\n",
       "      <th>4</th>\n",
       "      <td>對摺 - 國語</td>\n",
       "      <td>任賢齊</td>\n",
       "      <td>0.954455</td>\n",
       "    </tr>\n",
       "    <tr>\n",
       "      <th>5</th>\n",
       "      <td>最難的是相遇</td>\n",
       "      <td>Valen Hsu</td>\n",
       "      <td>0.954455</td>\n",
       "    </tr>\n",
       "    <tr>\n",
       "      <th>6</th>\n",
       "      <td>안녕 못해 I'm Not Okay (From “MISSING 9”)</td>\n",
       "      <td>CHEN</td>\n",
       "      <td>0.954455</td>\n",
       "    </tr>\n",
       "    <tr>\n",
       "      <th>7</th>\n",
       "      <td>未接來電</td>\n",
       "      <td>楊乃文</td>\n",
       "      <td>0.954455</td>\n",
       "    </tr>\n",
       "    <tr>\n",
       "      <th>8</th>\n",
       "      <td>飛機 - feat. 林俊峰</td>\n",
       "      <td>林俊傑</td>\n",
       "      <td>0.954455</td>\n",
       "    </tr>\n",
       "    <tr>\n",
       "      <th>9</th>\n",
       "      <td>All On Me</td>\n",
       "      <td>Devin Dawson</td>\n",
       "      <td>0.954455</td>\n",
       "    </tr>\n",
       "  </tbody>\n",
       "</table>\n",
       "</div>"
      ],
      "text/plain": [
       "                              song_title        song_artist         0\n",
       "0                                   如果的事                王藍茵  0.954455\n",
       "1                                    小小的                 思衛  0.954455\n",
       "2              Heathens (feat. MUTEMATH)  Twenty One Pilots  0.954455\n",
       "3                                  其實都沒有                楊宗緯  0.954455\n",
       "4                                對摺 - 國語                任賢齊  0.954455\n",
       "5                                 最難的是相遇          Valen Hsu  0.954455\n",
       "6  안녕 못해 I'm Not Okay (From “MISSING 9”)               CHEN  0.954455\n",
       "7                                   未接來電                楊乃文  0.954455\n",
       "8                         飛機 - feat. 林俊峰                林俊傑  0.954455\n",
       "9                              All On Me       Devin Dawson  0.954455"
      ]
     },
     "execution_count": 215,
     "metadata": {},
     "output_type": "execute_result"
    }
   ],
   "source": [
    "country_vec = country_vectors_df_norm.ix['Taiwan']\n",
    "song_vectors_df_norm.dot(country_vec).sort_values(ascending=False).reset_index().head(10)"
   ]
  },
  {
   "cell_type": "markdown",
   "metadata": {},
   "source": [
    "These look great.\n",
    "\n",
    "One interesting thing to note is the significance of the length of the vectors. To this point, [Schakel and Wilson](https://arxiv.org/abs/1508.02297) offer the following:\n",
    "\n",
    "> A word that is consistently used in a similar context will be represented by a longer vector than a word of the same frequency that is used in different contexts.\n",
    "\n",
    "> Not only the direction, but also the length of word vectors carries important information.\n",
    "\n",
    "> Word vector length furnishes, in combination with term frequency, a useful measure of word significance.\n",
    "\n",
    "In our case, my guess is that length indicates something like popularity - at least for songs. Let's see which songs and countries have the largest L2 norms."
   ]
  },
  {
   "cell_type": "code",
   "execution_count": 216,
   "metadata": {
    "scrolled": false
   },
   "outputs": [
    {
     "data": {
      "text/html": [
       "<div>\n",
       "<table border=\"1\" class=\"dataframe\">\n",
       "  <thead>\n",
       "    <tr style=\"text-align: right;\">\n",
       "      <th></th>\n",
       "      <th>song_title</th>\n",
       "      <th>song_artist</th>\n",
       "      <th>0</th>\n",
       "    </tr>\n",
       "  </thead>\n",
       "  <tbody>\n",
       "    <tr>\n",
       "      <th>0</th>\n",
       "      <td>Shape of You</td>\n",
       "      <td>Ed Sheeran</td>\n",
       "      <td>0.687497</td>\n",
       "    </tr>\n",
       "    <tr>\n",
       "      <th>1</th>\n",
       "      <td>Starboy</td>\n",
       "      <td>The Weeknd</td>\n",
       "      <td>0.684529</td>\n",
       "    </tr>\n",
       "    <tr>\n",
       "      <th>2</th>\n",
       "      <td>I Don’t Wanna Live Forever (Fifty Shades Darker) - From \"Fifty Shades Darker (Original Motion Pi...</td>\n",
       "      <td>ZAYN</td>\n",
       "      <td>0.682996</td>\n",
       "    </tr>\n",
       "    <tr>\n",
       "      <th>3</th>\n",
       "      <td>Despacito (Featuring Daddy Yankee)</td>\n",
       "      <td>Luis Fonsi</td>\n",
       "      <td>0.682941</td>\n",
       "    </tr>\n",
       "    <tr>\n",
       "      <th>4</th>\n",
       "      <td>Rockabye (feat. Sean Paul &amp; Anne-Marie)</td>\n",
       "      <td>Clean Bandit</td>\n",
       "      <td>0.682918</td>\n",
       "    </tr>\n",
       "    <tr>\n",
       "      <th>5</th>\n",
       "      <td>Paris</td>\n",
       "      <td>The Chainsmokers</td>\n",
       "      <td>0.682878</td>\n",
       "    </tr>\n",
       "    <tr>\n",
       "      <th>6</th>\n",
       "      <td>Call On Me - Ryan Riback Extended Remix</td>\n",
       "      <td>Starley</td>\n",
       "      <td>0.682799</td>\n",
       "    </tr>\n",
       "    <tr>\n",
       "      <th>7</th>\n",
       "      <td>Castle on the Hill</td>\n",
       "      <td>Ed Sheeran</td>\n",
       "      <td>0.682442</td>\n",
       "    </tr>\n",
       "    <tr>\n",
       "      <th>8</th>\n",
       "      <td>I Feel It Coming</td>\n",
       "      <td>The Weeknd</td>\n",
       "      <td>0.682225</td>\n",
       "    </tr>\n",
       "    <tr>\n",
       "      <th>9</th>\n",
       "      <td>Closer</td>\n",
       "      <td>The Chainsmokers</td>\n",
       "      <td>0.682175</td>\n",
       "    </tr>\n",
       "  </tbody>\n",
       "</table>\n",
       "</div>"
      ],
      "text/plain": [
       "                                                                                            song_title  \\\n",
       "0                                                                                         Shape of You   \n",
       "1                                                                                              Starboy   \n",
       "2  I Don’t Wanna Live Forever (Fifty Shades Darker) - From \"Fifty Shades Darker (Original Motion Pi...   \n",
       "3                                                                   Despacito (Featuring Daddy Yankee)   \n",
       "4                                                              Rockabye (feat. Sean Paul & Anne-Marie)   \n",
       "5                                                                                                Paris   \n",
       "6                                                              Call On Me - Ryan Riback Extended Remix   \n",
       "7                                                                                   Castle on the Hill   \n",
       "8                                                                                     I Feel It Coming   \n",
       "9                                                                                               Closer   \n",
       "\n",
       "        song_artist         0  \n",
       "0        Ed Sheeran  0.687497  \n",
       "1        The Weeknd  0.684529  \n",
       "2              ZAYN  0.682996  \n",
       "3        Luis Fonsi  0.682941  \n",
       "4      Clean Bandit  0.682918  \n",
       "5  The Chainsmokers  0.682878  \n",
       "6           Starley  0.682799  \n",
       "7        Ed Sheeran  0.682442  \n",
       "8        The Weeknd  0.682225  \n",
       "9  The Chainsmokers  0.682175  "
      ]
     },
     "execution_count": 216,
     "metadata": {},
     "output_type": "execute_result"
    }
   ],
   "source": [
    "song_vectors_df.apply(np.linalg.norm, axis=1).sort_values(ascending=False).reset_index().head(10)"
   ]
  },
  {
   "cell_type": "code",
   "execution_count": 217,
   "metadata": {},
   "outputs": [
    {
     "data": {
      "text/html": [
       "<div>\n",
       "<table border=\"1\" class=\"dataframe\">\n",
       "  <thead>\n",
       "    <tr style=\"text-align: right;\">\n",
       "      <th></th>\n",
       "      <th>country_name</th>\n",
       "      <th>0</th>\n",
       "    </tr>\n",
       "  </thead>\n",
       "  <tbody>\n",
       "    <tr>\n",
       "      <th>0</th>\n",
       "      <td>Taiwan</td>\n",
       "      <td>4.842656</td>\n",
       "    </tr>\n",
       "    <tr>\n",
       "      <th>1</th>\n",
       "      <td>Sweden</td>\n",
       "      <td>4.602653</td>\n",
       "    </tr>\n",
       "    <tr>\n",
       "      <th>2</th>\n",
       "      <td>Finland</td>\n",
       "      <td>4.415459</td>\n",
       "    </tr>\n",
       "    <tr>\n",
       "      <th>3</th>\n",
       "      <td>France</td>\n",
       "      <td>4.399233</td>\n",
       "    </tr>\n",
       "    <tr>\n",
       "      <th>4</th>\n",
       "      <td>United Kingdom</td>\n",
       "      <td>4.374870</td>\n",
       "    </tr>\n",
       "    <tr>\n",
       "      <th>5</th>\n",
       "      <td>Netherlands</td>\n",
       "      <td>4.330190</td>\n",
       "    </tr>\n",
       "    <tr>\n",
       "      <th>6</th>\n",
       "      <td>Denmark</td>\n",
       "      <td>4.232457</td>\n",
       "    </tr>\n",
       "    <tr>\n",
       "      <th>7</th>\n",
       "      <td>Italy</td>\n",
       "      <td>4.218088</td>\n",
       "    </tr>\n",
       "    <tr>\n",
       "      <th>8</th>\n",
       "      <td>Norway</td>\n",
       "      <td>4.084380</td>\n",
       "    </tr>\n",
       "    <tr>\n",
       "      <th>9</th>\n",
       "      <td>Germany</td>\n",
       "      <td>4.076692</td>\n",
       "    </tr>\n",
       "  </tbody>\n",
       "</table>\n",
       "</div>"
      ],
      "text/plain": [
       "     country_name         0\n",
       "0          Taiwan  4.842656\n",
       "1          Sweden  4.602653\n",
       "2         Finland  4.415459\n",
       "3          France  4.399233\n",
       "4  United Kingdom  4.374870\n",
       "5     Netherlands  4.330190\n",
       "6         Denmark  4.232457\n",
       "7           Italy  4.218088\n",
       "8          Norway  4.084380\n",
       "9         Germany  4.076692"
      ]
     },
     "execution_count": 217,
     "metadata": {},
     "output_type": "execute_result"
    }
   ],
   "source": [
    "country_vectors_df.apply(np.linalg.norm, axis=1).sort_values(ascending=False).reset_index().head(10)"
   ]
  },
  {
   "cell_type": "markdown",
   "metadata": {},
   "source": [
    "To reference Taiwan and Colombia, let's inspect predictions using unnormalized vectors."
   ]
  },
  {
   "cell_type": "code",
   "execution_count": 218,
   "metadata": {},
   "outputs": [
    {
     "data": {
      "text/html": [
       "<div>\n",
       "<table border=\"1\" class=\"dataframe\">\n",
       "  <thead>\n",
       "    <tr style=\"text-align: right;\">\n",
       "      <th></th>\n",
       "      <th>song_title</th>\n",
       "      <th>song_artist</th>\n",
       "      <th>0</th>\n",
       "    </tr>\n",
       "  </thead>\n",
       "  <tbody>\n",
       "    <tr>\n",
       "      <th>0</th>\n",
       "      <td>Bad Things - With Camila Cabello</td>\n",
       "      <td>Machine Gun Kelly</td>\n",
       "      <td>0.958864</td>\n",
       "    </tr>\n",
       "    <tr>\n",
       "      <th>1</th>\n",
       "      <td>Just Hold On</td>\n",
       "      <td>Steve Aoki</td>\n",
       "      <td>0.958692</td>\n",
       "    </tr>\n",
       "    <tr>\n",
       "      <th>2</th>\n",
       "      <td>Shape of You</td>\n",
       "      <td>Ed Sheeran</td>\n",
       "      <td>0.958325</td>\n",
       "    </tr>\n",
       "    <tr>\n",
       "      <th>3</th>\n",
       "      <td>Side To Side</td>\n",
       "      <td>Ariana Grande</td>\n",
       "      <td>0.957497</td>\n",
       "    </tr>\n",
       "    <tr>\n",
       "      <th>4</th>\n",
       "      <td>Closer</td>\n",
       "      <td>The Chainsmokers</td>\n",
       "      <td>0.957290</td>\n",
       "    </tr>\n",
       "    <tr>\n",
       "      <th>5</th>\n",
       "      <td>Starboy</td>\n",
       "      <td>The Weeknd</td>\n",
       "      <td>0.957090</td>\n",
       "    </tr>\n",
       "    <tr>\n",
       "      <th>6</th>\n",
       "      <td>Paris</td>\n",
       "      <td>The Chainsmokers</td>\n",
       "      <td>0.957001</td>\n",
       "    </tr>\n",
       "    <tr>\n",
       "      <th>7</th>\n",
       "      <td>I Don’t Wanna Live Forever (Fifty Shades Darker) - From \"Fifty Shades Darker (Original Motion Pi...</td>\n",
       "      <td>ZAYN</td>\n",
       "      <td>0.956933</td>\n",
       "    </tr>\n",
       "    <tr>\n",
       "      <th>8</th>\n",
       "      <td>Something Just Like This</td>\n",
       "      <td>The Chainsmokers</td>\n",
       "      <td>0.956803</td>\n",
       "    </tr>\n",
       "    <tr>\n",
       "      <th>9</th>\n",
       "      <td>The Greatest</td>\n",
       "      <td>Sia</td>\n",
       "      <td>0.956746</td>\n",
       "    </tr>\n",
       "  </tbody>\n",
       "</table>\n",
       "</div>"
      ],
      "text/plain": [
       "                                                                                            song_title  \\\n",
       "0                                                                     Bad Things - With Camila Cabello   \n",
       "1                                                                                         Just Hold On   \n",
       "2                                                                                         Shape of You   \n",
       "3                                                                                         Side To Side   \n",
       "4                                                                                               Closer   \n",
       "5                                                                                              Starboy   \n",
       "6                                                                                                Paris   \n",
       "7  I Don’t Wanna Live Forever (Fifty Shades Darker) - From \"Fifty Shades Darker (Original Motion Pi...   \n",
       "8                                                                             Something Just Like This   \n",
       "9                                                                                         The Greatest   \n",
       "\n",
       "         song_artist         0  \n",
       "0  Machine Gun Kelly  0.958864  \n",
       "1         Steve Aoki  0.958692  \n",
       "2         Ed Sheeran  0.958325  \n",
       "3      Ariana Grande  0.957497  \n",
       "4   The Chainsmokers  0.957290  \n",
       "5         The Weeknd  0.957090  \n",
       "6   The Chainsmokers  0.957001  \n",
       "7               ZAYN  0.956933  \n",
       "8   The Chainsmokers  0.956803  \n",
       "9                Sia  0.956746  "
      ]
     },
     "execution_count": 218,
     "metadata": {},
     "output_type": "execute_result"
    }
   ],
   "source": [
    "country_vec = country_vectors_df.ix['Taiwan']\n",
    "song_vectors_df.dot(country_vec).sort_values(ascending=False).reset_index().head(10)"
   ]
  },
  {
   "cell_type": "code",
   "execution_count": 219,
   "metadata": {},
   "outputs": [
    {
     "data": {
      "text/html": [
       "<div>\n",
       "<table border=\"1\" class=\"dataframe\">\n",
       "  <thead>\n",
       "    <tr style=\"text-align: right;\">\n",
       "      <th></th>\n",
       "      <th>song_title</th>\n",
       "      <th>song_artist</th>\n",
       "      <th>0</th>\n",
       "    </tr>\n",
       "  </thead>\n",
       "  <tbody>\n",
       "    <tr>\n",
       "      <th>0</th>\n",
       "      <td>I Got You</td>\n",
       "      <td>Bebe Rexha</td>\n",
       "      <td>1.019838</td>\n",
       "    </tr>\n",
       "    <tr>\n",
       "      <th>1</th>\n",
       "      <td>Party Monster</td>\n",
       "      <td>The Weeknd</td>\n",
       "      <td>0.993647</td>\n",
       "    </tr>\n",
       "    <tr>\n",
       "      <th>2</th>\n",
       "      <td>Hello</td>\n",
       "      <td>Adele</td>\n",
       "      <td>0.993421</td>\n",
       "    </tr>\n",
       "    <tr>\n",
       "      <th>3</th>\n",
       "      <td>I Would Like</td>\n",
       "      <td>Zara Larsson</td>\n",
       "      <td>0.987099</td>\n",
       "    </tr>\n",
       "    <tr>\n",
       "      <th>4</th>\n",
       "      <td>Scars To Your Beautiful</td>\n",
       "      <td>Alessia Cara</td>\n",
       "      <td>0.987036</td>\n",
       "    </tr>\n",
       "    <tr>\n",
       "      <th>5</th>\n",
       "      <td>Weak</td>\n",
       "      <td>AJR</td>\n",
       "      <td>0.986642</td>\n",
       "    </tr>\n",
       "    <tr>\n",
       "      <th>6</th>\n",
       "      <td>Too Good</td>\n",
       "      <td>Drake</td>\n",
       "      <td>0.982179</td>\n",
       "    </tr>\n",
       "    <tr>\n",
       "      <th>7</th>\n",
       "      <td>Nancy Mulligan</td>\n",
       "      <td>Ed Sheeran</td>\n",
       "      <td>0.979373</td>\n",
       "    </tr>\n",
       "    <tr>\n",
       "      <th>8</th>\n",
       "      <td>Supermarket Flowers</td>\n",
       "      <td>Ed Sheeran</td>\n",
       "      <td>0.978706</td>\n",
       "    </tr>\n",
       "    <tr>\n",
       "      <th>9</th>\n",
       "      <td>Hearts Don't Break Around Here</td>\n",
       "      <td>Ed Sheeran</td>\n",
       "      <td>0.978494</td>\n",
       "    </tr>\n",
       "  </tbody>\n",
       "</table>\n",
       "</div>"
      ],
      "text/plain": [
       "                       song_title   song_artist         0\n",
       "0                       I Got You    Bebe Rexha  1.019838\n",
       "1                   Party Monster    The Weeknd  0.993647\n",
       "2                           Hello         Adele  0.993421\n",
       "3                    I Would Like  Zara Larsson  0.987099\n",
       "4         Scars To Your Beautiful  Alessia Cara  0.987036\n",
       "5                            Weak           AJR  0.986642\n",
       "6                        Too Good         Drake  0.982179\n",
       "7                  Nancy Mulligan    Ed Sheeran  0.979373\n",
       "8             Supermarket Flowers    Ed Sheeran  0.978706\n",
       "9  Hearts Don't Break Around Here    Ed Sheeran  0.978494"
      ]
     },
     "execution_count": 219,
     "metadata": {},
     "output_type": "execute_result"
    }
   ],
   "source": [
    "country_vec = country_vectors_df.ix['Colombia']\n",
    "song_vectors_df.dot(country_vec).sort_values(ascending=False).reset_index().head(10)"
   ]
  },
  {
   "cell_type": "markdown",
   "metadata": {},
   "source": [
    "Respectively, there is not a song with Chinese nor Spanish letters in each set of recommendations. Additionally, it seems like the world is fond of Ed Sheeran. It is clear that the global popularity of songs dominates our recommendations when computing the dot product with unnormalized vectors.\n",
    "\n",
    "When we do normalize, our predicted preferences can be defined thus:\n",
    "\n",
    "$$\n",
    "\\hat{x}_u = \\frac{x_u}{\\|x_u\\|} \\quad \\hat{y}_i = \\frac{y_i}{\\|y_i\\|}\\\\\n",
    "\\hat{p}_{u, i} = \\hat{x}_u \\cdot \\hat{y}_i\n",
    "$$\n",
    "\n",
    "One idea might be to scale the song vectors by their respective lengths, leaving our predicted preferences as:\n",
    "\n",
    "$$\n",
    "\\begin{align*}\n",
    "\\hat{p}_{u, i} &= \\hat{x}_u \\cdot \\big(\\hat{y}_i \\cdot c\\|y_i\\|\\big)\\\\\n",
    "&= \\hat{x}_u \\cdot \\Bigg(\\hat{y}_i \\cdot c\\frac{y_i}{\\hat{y_i}}\\Bigg)\\\\\n",
    "&= \\hat{x}_u \\cdot c y_i\n",
    "\\end{align*}\n",
    "$$\n",
    "\n",
    "Let's briefly see what this looks like."
   ]
  },
  {
   "cell_type": "code",
   "execution_count": 220,
   "metadata": {},
   "outputs": [
    {
     "data": {
      "text/html": [
       "<div>\n",
       "<table border=\"1\" class=\"dataframe\">\n",
       "  <thead>\n",
       "    <tr style=\"text-align: right;\">\n",
       "      <th></th>\n",
       "      <th>song_title</th>\n",
       "      <th>song_artist</th>\n",
       "      <th>0</th>\n",
       "    </tr>\n",
       "  </thead>\n",
       "  <tbody>\n",
       "    <tr>\n",
       "      <th>0</th>\n",
       "      <td>Bad Things - With Camila Cabello</td>\n",
       "      <td>Machine Gun Kelly</td>\n",
       "      <td>0.039601</td>\n",
       "    </tr>\n",
       "    <tr>\n",
       "      <th>1</th>\n",
       "      <td>Just Hold On</td>\n",
       "      <td>Steve Aoki</td>\n",
       "      <td>0.039594</td>\n",
       "    </tr>\n",
       "    <tr>\n",
       "      <th>2</th>\n",
       "      <td>Shape of You</td>\n",
       "      <td>Ed Sheeran</td>\n",
       "      <td>0.039578</td>\n",
       "    </tr>\n",
       "    <tr>\n",
       "      <th>3</th>\n",
       "      <td>Side To Side</td>\n",
       "      <td>Ariana Grande</td>\n",
       "      <td>0.039544</td>\n",
       "    </tr>\n",
       "    <tr>\n",
       "      <th>4</th>\n",
       "      <td>Closer</td>\n",
       "      <td>The Chainsmokers</td>\n",
       "      <td>0.039536</td>\n",
       "    </tr>\n",
       "    <tr>\n",
       "      <th>5</th>\n",
       "      <td>Starboy</td>\n",
       "      <td>The Weeknd</td>\n",
       "      <td>0.039528</td>\n",
       "    </tr>\n",
       "    <tr>\n",
       "      <th>6</th>\n",
       "      <td>Paris</td>\n",
       "      <td>The Chainsmokers</td>\n",
       "      <td>0.039524</td>\n",
       "    </tr>\n",
       "    <tr>\n",
       "      <th>7</th>\n",
       "      <td>I Don’t Wanna Live Forever (Fifty Shades Darker) - From \"Fifty Shades Darker (Original Motion Pi...</td>\n",
       "      <td>ZAYN</td>\n",
       "      <td>0.039521</td>\n",
       "    </tr>\n",
       "    <tr>\n",
       "      <th>8</th>\n",
       "      <td>Something Just Like This</td>\n",
       "      <td>The Chainsmokers</td>\n",
       "      <td>0.039516</td>\n",
       "    </tr>\n",
       "    <tr>\n",
       "      <th>9</th>\n",
       "      <td>The Greatest</td>\n",
       "      <td>Sia</td>\n",
       "      <td>0.039513</td>\n",
       "    </tr>\n",
       "  </tbody>\n",
       "</table>\n",
       "</div>"
      ],
      "text/plain": [
       "                                                                                            song_title  \\\n",
       "0                                                                     Bad Things - With Camila Cabello   \n",
       "1                                                                                         Just Hold On   \n",
       "2                                                                                         Shape of You   \n",
       "3                                                                                         Side To Side   \n",
       "4                                                                                               Closer   \n",
       "5                                                                                              Starboy   \n",
       "6                                                                                                Paris   \n",
       "7  I Don’t Wanna Live Forever (Fifty Shades Darker) - From \"Fifty Shades Darker (Original Motion Pi...   \n",
       "8                                                                             Something Just Like This   \n",
       "9                                                                                         The Greatest   \n",
       "\n",
       "         song_artist         0  \n",
       "0  Machine Gun Kelly  0.039601  \n",
       "1         Steve Aoki  0.039594  \n",
       "2         Ed Sheeran  0.039578  \n",
       "3      Ariana Grande  0.039544  \n",
       "4   The Chainsmokers  0.039536  \n",
       "5         The Weeknd  0.039528  \n",
       "6   The Chainsmokers  0.039524  \n",
       "7               ZAYN  0.039521  \n",
       "8   The Chainsmokers  0.039516  \n",
       "9                Sia  0.039513  "
      ]
     },
     "execution_count": 220,
     "metadata": {},
     "output_type": "execute_result"
    }
   ],
   "source": [
    "C = .2\n",
    "\n",
    "country_vec = country_vectors_df_norm.ix['Taiwan']\n",
    "(C * song_vectors_df).dot(country_vec).sort_values(ascending=False).reset_index().head(10)"
   ]
  },
  {
   "cell_type": "markdown",
   "metadata": {},
   "source": [
    "About the same. Nevertheless, the length of our vectors can likely offer some value when balancing local recommendations with globally popular songs. I leave this to the reader to explore further for now."
   ]
  },
  {
   "cell_type": "markdown",
   "metadata": {},
   "source": [
    "# Approximating IMF with neural networks\n",
    "\n",
    "Again, IMF gives a function $f: u, i \\rightarrow \\hat{p}_{u, i}$ and the following objective function to minimize:\n",
    "\n",
    "$$\n",
    "\\underset{x_{*}, y_{*}}{\\arg\\min}\\sum\\limits_{u, i}c_{u, i}\\big(p_{u, i} - f(u, i)\\big)^2 + \\lambda\\bigg(\\sum\\limits_u\\|x_u\\|^2 + \\sum\\limits_i\\|y_u\\|^2\\bigg)\n",
    "$$\n",
    "\n",
    "Let's try to do this with neural networks. I'll use the $\\alpha$ and $\\lambda$ parameters found above, and keep the same dimensionality, $F = 30$, for our latent vectors. This number was chosen in separate experimentation not shown here."
   ]
  },
  {
   "cell_type": "code",
   "execution_count": 32,
   "metadata": {
    "collapsed": true,
    "scrolled": false
   },
   "outputs": [],
   "source": [
    "from itertools import product\n",
    "\n",
    "from keras import backend as K\n",
    "from keras.layers import Input, Embedding, Flatten, Lambda, Dense, BatchNormalization, Dropout, LSTM\n",
    "from keras.layers.merge import add, dot, concatenate\n",
    "from keras.models import Model\n",
    "from keras.optimizers import Adam\n",
    "from keras.preprocessing.sequence import pad_sequences\n",
    "from keras.preprocessing.text import Tokenizer\n",
    "from keras.regularizers import l2\n",
    "from keras.utils import plot_model"
   ]
  },
  {
   "cell_type": "code",
   "execution_count": 9,
   "metadata": {},
   "outputs": [
    {
     "data": {
      "image/png": "[encoded data removed]",
      "text/plain": [
       "<matplotlib.figure.Figure at 0x1173dca20>"
      ]
     },
     "metadata": {},
     "output_type": "display_data"
    }
   ],
   "source": [
    "songs_rated_by_country = (ratings_matrix.R_ui > 0).sum(axis=1)\n",
    "\n",
    "plt.hist(songs_rated_by_country)\n",
    "plt.title('Distribution of # of Unique Songs Streamed per Country', fontsize=15)\n",
    "plt.xlabel('Unique Songs Streamed', fontsize=12)\n",
    "_ = plt.ylabel('# of Countries', fontsize=12)"
   ]
  },
  {
   "cell_type": "code",
   "execution_count": 10,
   "metadata": {},
   "outputs": [
    {
     "name": "stdout",
     "output_type": "stream",
     "text": [
      "The 15th percentile of songs rated by country is 218.20000000000002.\n"
     ]
    }
   ],
   "source": [
    "print('The 15th percentile of songs rated by country is {}.'.format(\n",
    "    np.percentile(songs_rated_by_country, 15)\n",
    "))"
   ]
  },
  {
   "cell_type": "markdown",
   "metadata": {},
   "source": [
    "Let's set our eligibility cutoff at 200 songs and create training and validation matrices."
   ]
  },
  {
   "cell_type": "code",
   "execution_count": 13,
   "metadata": {
    "collapsed": true
   },
   "outputs": [],
   "source": [
    "more_than_200_ratings_mask = songs_rated_by_country > 20\n",
    "\n",
    "training_matrix, validation_matrix = split_ratings_matrix_into_training_and_validation(\n",
    "    ratings_matrix=ratings_matrix,\n",
    "    eligibility_mask=more_than_200_ratings_mask\n",
    ")"
   ]
  },
  {
   "cell_type": "markdown",
   "metadata": {},
   "source": [
    "## Arrange our data\n",
    "\n",
    "To interact with Keras, we'll need to change our data from wide format to long. Additionally, so as to create our embeddings, we'll need to give each country and song a unique, contiguous index. Finally, I'll do the same with the song artist, as well as tokenize the song title, for later use."
   ]
  },
  {
   "cell_type": "code",
   "execution_count": 16,
   "metadata": {},
   "outputs": [
    {
     "data": {
      "text/html": [
       "<div>\n",
       "<table border=\"1\" class=\"dataframe\">\n",
       "  <thead>\n",
       "    <tr style=\"text-align: right;\">\n",
       "      <th></th>\n",
       "      <th>song_title</th>\n",
       "      <th>song_artist</th>\n",
       "    </tr>\n",
       "    <tr>\n",
       "      <th>song_id</th>\n",
       "      <th></th>\n",
       "      <th></th>\n",
       "    </tr>\n",
       "  </thead>\n",
       "  <tbody>\n",
       "    <tr>\n",
       "      <th>5552</th>\n",
       "      <td>El Perdón</td>\n",
       "      <td>Nicky Jam</td>\n",
       "    </tr>\n",
       "    <tr>\n",
       "      <th>5553</th>\n",
       "      <td>Lean On (feat. MØ &amp; DJ Snake)</td>\n",
       "      <td>Major Lazer</td>\n",
       "    </tr>\n",
       "    <tr>\n",
       "      <th>5555</th>\n",
       "      <td>Love Me Like You Do - From \"Fifty Shades Of Grey\"</td>\n",
       "      <td>Ellie Goulding</td>\n",
       "    </tr>\n",
       "    <tr>\n",
       "      <th>5556</th>\n",
       "      <td>Uptown Funk</td>\n",
       "      <td>Mark Ronson</td>\n",
       "    </tr>\n",
       "    <tr>\n",
       "      <th>5557</th>\n",
       "      <td>Loquita</td>\n",
       "      <td>Marama</td>\n",
       "    </tr>\n",
       "  </tbody>\n",
       "</table>\n",
       "</div>"
      ],
      "text/plain": [
       "                                                song_title     song_artist\n",
       "song_id                                                                   \n",
       "5552                                             El Perdón       Nicky Jam\n",
       "5553                         Lean On (feat. MØ & DJ Snake)     Major Lazer\n",
       "5555     Love Me Like You Do - From \"Fifty Shades Of Grey\"  Ellie Goulding\n",
       "5556                                           Uptown Funk     Mark Ronson\n",
       "5557                                               Loquita          Marama"
      ]
     },
     "execution_count": 16,
     "metadata": {},
     "output_type": "execute_result"
    }
   ],
   "source": [
    "song_metadata_df = song_metadata_df.ix[ratings_matrix.R_ui.columns]\n",
    "song_metadata_df.head()"
   ]
  },
  {
   "cell_type": "code",
   "execution_count": 17,
   "metadata": {},
   "outputs": [
    {
     "data": {
      "text/html": [
       "<div>\n",
       "<table border=\"1\" class=\"dataframe\">\n",
       "  <thead>\n",
       "    <tr style=\"text-align: right;\">\n",
       "      <th></th>\n",
       "      <th>song_title</th>\n",
       "      <th>song_artist</th>\n",
       "      <th>song_index</th>\n",
       "      <th>song_artist_index</th>\n",
       "    </tr>\n",
       "    <tr>\n",
       "      <th>song_id</th>\n",
       "      <th></th>\n",
       "      <th></th>\n",
       "      <th></th>\n",
       "      <th></th>\n",
       "    </tr>\n",
       "  </thead>\n",
       "  <tbody>\n",
       "    <tr>\n",
       "      <th>33068</th>\n",
       "      <td>Affection</td>\n",
       "      <td>Cigarettes After Sex</td>\n",
       "      <td>8658</td>\n",
       "      <td>3699</td>\n",
       "    </tr>\n",
       "    <tr>\n",
       "      <th>33069</th>\n",
       "      <td>Istemem Soz Sevmeni</td>\n",
       "      <td>Ferman Akgül</td>\n",
       "      <td>8659</td>\n",
       "      <td>3106</td>\n",
       "    </tr>\n",
       "    <tr>\n",
       "      <th>33070</th>\n",
       "      <td>Skammekroken 2017</td>\n",
       "      <td>TIX</td>\n",
       "      <td>8660</td>\n",
       "      <td>1677</td>\n",
       "    </tr>\n",
       "    <tr>\n",
       "      <th>33071</th>\n",
       "      <td>Wiosna</td>\n",
       "      <td>Organek</td>\n",
       "      <td>8661</td>\n",
       "      <td>3716</td>\n",
       "    </tr>\n",
       "    <tr>\n",
       "      <th>33072</th>\n",
       "      <td>Fuckt.</td>\n",
       "      <td>Strapo</td>\n",
       "      <td>8662</td>\n",
       "      <td>3717</td>\n",
       "    </tr>\n",
       "  </tbody>\n",
       "</table>\n",
       "</div>"
      ],
      "text/plain": [
       "                  song_title           song_artist  song_index  \\\n",
       "song_id                                                          \n",
       "33068              Affection  Cigarettes After Sex        8658   \n",
       "33069    Istemem Soz Sevmeni          Ferman Akgül        8659   \n",
       "33070      Skammekroken 2017                   TIX        8660   \n",
       "33071                 Wiosna               Organek        8661   \n",
       "33072                 Fuckt.                Strapo        8662   \n",
       "\n",
       "         song_artist_index  \n",
       "song_id                     \n",
       "33068                 3699  \n",
       "33069                 3106  \n",
       "33070                 1677  \n",
       "33071                 3716  \n",
       "33072                 3717  "
      ]
     },
     "execution_count": 17,
     "metadata": {},
     "output_type": "execute_result"
    }
   ],
   "source": [
    "country_id_to_index = {c_id: index for index, c_id in enumerate(ratings_matrix.R_ui.index)}\n",
    "song_id_to_index = {s_id: index for index, s_id in enumerate(ratings_matrix.R_ui.columns)}\n",
    "song_artist_to_index = {artist: index for index, artist in enumerate(song_metadata_df['song_artist'].unique())}\n",
    "\n",
    "song_metadata_df['song_index'] = song_metadata_df.index.map(song_id_to_index.get)\n",
    "song_metadata_df['song_artist_index'] = song_metadata_df['song_artist'].map(song_artist_to_index.get).astype(int)\n",
    "song_metadata_df.tail()"
   ]
  },
  {
   "cell_type": "markdown",
   "metadata": {
    "collapsed": true
   },
   "source": [
    "### Tokenize song title"
   ]
  },
  {
   "cell_type": "code",
   "execution_count": 18,
   "metadata": {
    "collapsed": true
   },
   "outputs": [],
   "source": [
    "NUM_WORDS = 5000\n",
    "\n",
    "tokenizer = Tokenizer(num_words=NUM_WORDS, lower=True, split=\" \")\n",
    "tokenizer.fit_on_texts(song_metadata_df['song_title'])\n",
    "song_metadata_df['title_sequence'] = tokenizer.texts_to_sequences(song_metadata_df['song_title'])"
   ]
  },
  {
   "cell_type": "markdown",
   "metadata": {},
   "source": [
    "### Convert ratings to long format"
   ]
  },
  {
   "cell_type": "code",
   "execution_count": 19,
   "metadata": {
    "collapsed": true
   },
   "outputs": [],
   "source": [
    "input_tuples = list( product(ratings_matrix.R_ui.index, ratings_matrix.R_ui.columns) )\n",
    "country_ids, song_ids = zip(*input_tuples)\n",
    "\n",
    "ratings_df = pd.DataFrame({\n",
    "    'country_id': country_ids,\n",
    "    'song_id': song_ids,\n",
    "    'train_rating': training_matrix.R_ui.values.flatten(),\n",
    "    'validation_rating': validation_matrix.R_ui.values.flatten(),\n",
    "})\n",
    "\n",
    "ratings_df = ratings_df.join(song_metadata_df, on='song_id', how='inner').sort_index()\n",
    "ratings_df['country_index'] = ratings_df['country_id'].map(country_id_to_index.get)"
   ]
  },
  {
   "cell_type": "markdown",
   "metadata": {},
   "source": [
    "## Define network parameters"
   ]
  },
  {
   "cell_type": "code",
   "execution_count": 22,
   "metadata": {
    "collapsed": true
   },
   "outputs": [],
   "source": [
    "n_countries = ratings_df['country_index'].nunique()\n",
    "n_songs = ratings_df['song_index'].nunique()\n",
    "n_artists = ratings_df['song_artist_index'].nunique()\n",
    "\n",
    "alpha = best_params.alpha\n",
    "lmbda = best_params.lmbda\n",
    "F = 30\n",
    "LEARNING_RATE = .001"
   ]
  },
  {
   "cell_type": "markdown",
   "metadata": {},
   "source": [
    "## Define a loss function\n",
    "\n",
    "This is simply the IMF objective we'd like to minimize."
   ]
  },
  {
   "cell_type": "code",
   "execution_count": 23,
   "metadata": {
    "collapsed": true
   },
   "outputs": [],
   "source": [
    "def implicit_cf_loss(y_true, y_pred, alpha=alpha):\n",
    "    P = y_true > 0\n",
    "    C = 1 + alpha*y_true\n",
    "    return K.mean( C*(P - y_pred)**2 )"
   ]
  },
  {
   "cell_type": "markdown",
   "metadata": {},
   "source": [
    "## Define functions to generate, evaluate and visualize predictions"
   ]
  },
  {
   "cell_type": "code",
   "execution_count": 24,
   "metadata": {
    "collapsed": true
   },
   "outputs": [],
   "source": [
    "def generate_predictions(model, inputs, ratings_df=ratings_df):\n",
    "    predictions = model.predict(x=inputs)\n",
    "    return pd.DataFrame({\n",
    "        'prediction': predictions.flatten(),\n",
    "        'country_id': ratings_df['country_id'],\n",
    "        'song_id': ratings_df['song_id']\n",
    "    }).pivot('country_id', 'song_id', 'prediction')"
   ]
  },
  {
   "cell_type": "code",
   "execution_count": 25,
   "metadata": {
    "collapsed": true
   },
   "outputs": [],
   "source": [
    "def evaluate_predictions(predictions, eligibility_mask=more_than_200_ratings_mask, \n",
    "                         training_matrix=training_matrix, validation_matrix=validation_matrix):\n",
    "    evaluator = ExpectedPercentileRankingsEvaluator(\n",
    "        training_matrix=training_matrix,\n",
    "        validation_matrix=validation_matrix,\n",
    "        eligibility_mask=eligibility_mask,\n",
    "        predicted_preferences=predictions\n",
    "    )\n",
    "    evaluator.run()\n",
    "    print('Train: {}'.format(evaluator.mean_expected_percentile_rankings_train))\n",
    "    print('Validation: {}'.format(evaluator.mean_expected_percentile_rankings_validation))"
   ]
  },
  {
   "cell_type": "code",
   "execution_count": 74,
   "metadata": {
    "collapsed": true
   },
   "outputs": [],
   "source": [
    "def visualize_predictions(predictions):\n",
    "    plt.figure(figsize=(10, 6))\n",
    "\n",
    "    plt.hist(predictions.values.flatten(), bins=25)\n",
    "    plt.title('Predicted Preferences Histogram', fontsize=15)\n",
    "    plt.xlabel('Predicted Prefence', fontsize=12)\n",
    "    _ = plt.ylabel('Count', fontsize=12)"
   ]
  },
  {
   "cell_type": "markdown",
   "metadata": {},
   "source": [
    "<a id=\"network_1\"></a>\n",
    "# Network \\#1\n",
    "\n",
    "A trivially \"Siamese\" network which first embeds each country and song index into $\\mathbb{R}^f$ in parallel then computes a dot-product of the embeddings. This is roughly equivalent to what is being done by IMF."
   ]
  },
  {
   "cell_type": "code",
   "execution_count": 162,
   "metadata": {
    "collapsed": true
   },
   "outputs": [],
   "source": [
    "country_input = Input(shape=(1,), dtype='int64', name='country')\n",
    "song_input = Input(shape=(1,), dtype='int64', name='song')\n",
    "\n",
    "country_embedding = Embedding(input_dim=n_countries, output_dim=F, embeddings_regularizer=l2(lmbda))(country_input)\n",
    "song_embedding = Embedding(input_dim=n_songs, output_dim=F, embeddings_regularizer=l2(lmbda))(song_input)\n",
    "\n",
    "predicted_preference = dot(inputs=[country_embedding, song_embedding], axes=2)\n",
    "predicted_preference = Flatten()(predicted_preference)"
   ]
  },
  {
   "cell_type": "code",
   "execution_count": 163,
   "metadata": {
    "collapsed": true
   },
   "outputs": [],
   "source": [
    "model = Model(inputs=[country_input, song_input], outputs=predicted_preference)\n",
    "model.compile(loss=implicit_cf_loss, optimizer=Adam(lr=LEARNING_RATE))\n",
    "\n",
    "plot_model(model, to_file='figures/network_1.png')"
   ]
  },
  {
   "cell_type": "markdown",
   "metadata": {},
   "source": [
    "![network 1]({static}/figures/neural_implicit_mf_network_1.png)"
   ]
  },
  {
   "cell_type": "code",
   "execution_count": 164,
   "metadata": {},
   "outputs": [
    {
     "name": "stdout",
     "output_type": "stream",
     "text": [
      "Train on 476465 samples, validate on 476465 samples\n",
      "Epoch 1/5\n",
      "476465/476465 [==============================] - 2s - loss: 64.9000 - val_loss: 0.0185\n",
      "Epoch 2/5\n",
      "476465/476465 [==============================] - 8s - loss: 0.0744 - val_loss: 0.0185\n",
      "Epoch 3/5\n",
      "476465/476465 [==============================] - 3s - loss: 0.0744 - val_loss: 0.0185\n",
      "Epoch 4/5\n",
      "476465/476465 [==============================] - 10s - loss: 0.0745 - val_loss: 0.0185\n",
      "Epoch 5/5\n",
      "476465/476465 [==============================] - 8s - loss: 0.0745 - val_loss: 0.0186\n"
     ]
    }
   ],
   "source": [
    "inputs = [ratings_df['country_index'], ratings_df['song_index']]\n",
    "\n",
    "network_1 = model.fit(\n",
    "    x=inputs,\n",
    "    y=ratings_df['train_rating'],\n",
    "    batch_size=1024, \n",
    "    epochs=5,\n",
    "    validation_data=(inputs, ratings_df['validation_rating'])\n",
    ")"
   ]
  },
  {
   "cell_type": "code",
   "execution_count": 165,
   "metadata": {},
   "outputs": [
    {
     "name": "stdout",
     "output_type": "stream",
     "text": [
      "Train: 0.5053388101677021\n",
      "Validation: 0.49071882278215817\n"
     ]
    }
   ],
   "source": [
    "predictions = generate_predictions(model=model, inputs=inputs)\n",
    "evaluate_predictions(predictions)"
   ]
  },
  {
   "cell_type": "markdown",
   "metadata": {},
   "source": [
    "For reference, let's recall the results we computed when validation our model with `best_params`."
   ]
  },
  {
   "cell_type": "code",
   "execution_count": 166,
   "metadata": {},
   "outputs": [
    {
     "data": {
      "text/plain": [
       "{'train': 0.04479720392806505, 'validation': 0.18543168148626762}"
      ]
     },
     "execution_count": 166,
     "metadata": {},
     "output_type": "execute_result"
    }
   ],
   "source": [
    "grid_search_results[best_params]"
   ]
  },
  {
   "cell_type": "markdown",
   "metadata": {},
   "source": [
    "Additionally, a *random* model should return an expected percentile ranking of ~50%, as noted in [Hu, Koren and Volinksy](http://yifanhu.net/PUB/cf.pdf). So, this is really bad. Let's visualize the distribution of predictions before moving on to another model."
   ]
  },
  {
   "cell_type": "code",
   "execution_count": 167,
   "metadata": {},
   "outputs": [
    {
     "data": {
      "image/png": "[encoded data removed]",
      "text/plain": [
       "<matplotlib.figure.Figure at 0x124ce2208>"
      ]
     },
     "metadata": {},
     "output_type": "display_data"
    }
   ],
   "source": [
    "visualize_predictions(predictions)"
   ]
  },
  {
   "cell_type": "markdown",
   "metadata": {},
   "source": [
    "<a id=\"network_2\"></a>\n",
    "# Network \\#2\n",
    "\n",
    "Same as previous, but with a bias embedding for each set, in $\\mathbb{R}$, added to the dot-product."
   ]
  },
  {
   "cell_type": "code",
   "execution_count": 168,
   "metadata": {
    "collapsed": true
   },
   "outputs": [],
   "source": [
    "country_bias = Embedding(input_dim=n_countries, output_dim=1, name='country_bias', input_length=1)(country_input)\n",
    "song_bias = Embedding(input_dim=n_songs, output_dim=1, name='song_bias', input_length=1)(song_input)\n",
    "\n",
    "predicted_preference = add(inputs=[predicted_preference, song_bias, country_bias])\n",
    "predicted_preference = Flatten()(predicted_preference)"
   ]
  },
  {
   "cell_type": "code",
   "execution_count": 169,
   "metadata": {
    "collapsed": true
   },
   "outputs": [],
   "source": [
    "model = Model(inputs=[country_input, song_input], outputs=predicted_preference)\n",
    "model.compile(loss=implicit_cf_loss, optimizer=Adam(lr=LEARNING_RATE))\n",
    "\n",
    "plot_model(model, to_file='figures/network_2.png')"
   ]
  },
  {
   "cell_type": "markdown",
   "metadata": {},
   "source": [
    "![network 2]({static}/figures/neural_implicit_mf_network_2.png?)"
   ]
  },
  {
   "cell_type": "code",
   "execution_count": 170,
   "metadata": {},
   "outputs": [
    {
     "name": "stdout",
     "output_type": "stream",
     "text": [
      "Train on 476465 samples, validate on 476465 samples\n",
      "Epoch 1/5\n",
      "476465/476465 [==============================] - 2s - loss: 0.0734 - val_loss: 0.0204\n",
      "Epoch 2/5\n",
      "476465/476465 [==============================] - 2s - loss: 0.0563 - val_loss: 0.0216\n",
      "Epoch 3/5\n",
      "476465/476465 [==============================] - 2s - loss: 0.0534 - val_loss: 0.0236\n",
      "Epoch 4/5\n",
      "476465/476465 [==============================] - 2s - loss: 0.0515 - val_loss: 0.0252\n",
      "Epoch 5/5\n",
      "476465/476465 [==============================] - 2s - loss: 0.0502 - val_loss: 0.0269\n"
     ]
    }
   ],
   "source": [
    "inputs = [ratings_df['country_index'], ratings_df['song_index']]\n",
    "\n",
    "network_2 = model.fit(\n",
    "    x=inputs,\n",
    "    y=ratings_df['train_rating'],\n",
    "    batch_size=1024, \n",
    "    epochs=5,\n",
    "    validation_data=(inputs, ratings_df['validation_rating'])\n",
    ")"
   ]
  },
  {
   "cell_type": "code",
   "execution_count": 171,
   "metadata": {},
   "outputs": [
    {
     "name": "stdout",
     "output_type": "stream",
     "text": [
      "Train: 0.10900494586591782\n",
      "Validation: 0.1906236846450195\n"
     ]
    }
   ],
   "source": [
    "predictions = generate_predictions(model=model, inputs=inputs)\n",
    "evaluate_predictions(predictions)"
   ]
  },
  {
   "cell_type": "markdown",
   "metadata": {},
   "source": [
    "This looks a lot better. Now let's visualize our ground-truth and predictions side-by-side."
   ]
  },
  {
   "cell_type": "code",
   "execution_count": 172,
   "metadata": {},
   "outputs": [
    {
     "data": {
      "image/png": "[encoded data removed]",
      "text/plain": [
       "<matplotlib.figure.Figure at 0x12a668048>"
      ]
     },
     "metadata": {},
     "output_type": "display_data"
    }
   ],
   "source": [
    "_ = pd.DataFrame({\n",
    "    'predictions': predictions.values.flatten(),\n",
    "    'ratings': ratings_df['train_rating'].values.flatten()\n",
    "}).hist(figsize=(16, 6))"
   ]
  },
  {
   "cell_type": "markdown",
   "metadata": {},
   "source": [
    "This model approximates the training distribution much better than the others. Key to this task is delineating between items with 0 ratings, and those with high ratings. Remember, we first down-scaled our ratings with the following transformation to shrink the domain:\n",
    "\n",
    "$$\\tilde{r}_{u, i} = \\log{\\bigg(\\frac{1 + r_{u, i}}{\\epsilon}\\bigg)}$$\n",
    "\n",
    "Furthermore, the model scores worse on the training distribution, yet similarly on the validation set. The bias term was clearly helpful.\n",
    "\n",
    "Let's try a similar model, but *concatenate* the country and song embeddings, then stack fully connected layers, then compute the final linear combination as before."
   ]
  },
  {
   "cell_type": "markdown",
   "metadata": {},
   "source": [
    "<a id=\"network_3\"></a>\n",
    "# Network \\#3\n",
    "\n",
    "Same as [#1](#network_1), but concatenate the latent vectors instead. Then, stack 3 fully-connected layers with ReLU activations, batch normalization after each, and dropout after the first. Finally, add a 1-unit dense layer on the end, and add bias embeddings to the result. (NB: I wanted to add the bias embeddings to the respective $\\mathbb{R}^f$ embeddings at the outset, but couldn't figure out how to do this in Keras.)"
   ]
  },
  {
   "cell_type": "code",
   "execution_count": 185,
   "metadata": {
    "collapsed": true
   },
   "outputs": [],
   "source": [
    "country_input = Input(shape=(1,), dtype='int64', name='country')\n",
    "song_input = Input(shape=(1,), dtype='int64', name='song')\n",
    "\n",
    "country_embedding = Embedding(input_dim=n_countries, output_dim=F, embeddings_regularizer=l2(lmbda))(country_input)\n",
    "song_embedding = Embedding(input_dim=n_songs, output_dim=F, embeddings_regularizer=l2(lmbda))(song_input)\n",
    "\n",
    "country_bias = Embedding(input_dim=n_countries, output_dim=1, name='country_bias', input_length=1)(country_input)\n",
    "song_bias = Embedding(input_dim=n_songs, output_dim=1, name='song_bias', input_length=1)(song_input)\n",
    "\n",
    "concatenation = concatenate([country_embedding, song_embedding])\n",
    "\n",
    "dense_layer = Dense(activation='relu', units=10)(concatenation)\n",
    "dropout = Dropout(.5)(dense_layer)\n",
    "batch_norm = BatchNormalization()(dropout)\n",
    "dense_layer = Dense(activation='relu', units=10)(batch_norm)\n",
    "batch_norm = BatchNormalization()(dense_layer)\n",
    "dense_layer = Dense(activation='relu', units=10)(batch_norm)\n",
    "batch_norm = BatchNormalization()(dense_layer)\n",
    "\n",
    "predicted_preference = Dense(units=1, name='predicted_preference')(batch_norm)\n",
    "predicted_preference = Flatten()(predicted_preference)\n",
    "\n",
    "predicted_preference = add(inputs=[predicted_preference, country_bias, song_bias])\n",
    "predicted_preference = Flatten()(predicted_preference)"
   ]
  },
  {
   "cell_type": "code",
   "execution_count": 190,
   "metadata": {
    "collapsed": true
   },
   "outputs": [],
   "source": [
    "model = Model(inputs=[country_input, song_input], outputs=predicted_preference)\n",
    "model.compile(loss=implicit_cf_loss, optimizer=Adam(lr=LEARNING_RATE))\n",
    "\n",
    "plot_model(model, to_file='figures/network_3.png')"
   ]
  },
  {
   "cell_type": "markdown",
   "metadata": {},
   "source": [
    "![network 3]({static}/figures/neural_implicit_mf_network_3.png?)"
   ]
  },
  {
   "cell_type": "code",
   "execution_count": 191,
   "metadata": {
    "scrolled": false
   },
   "outputs": [
    {
     "name": "stdout",
     "output_type": "stream",
     "text": [
      "Train on 476465 samples, validate on 476465 samples\n",
      "Epoch 1/5\n",
      "476465/476465 [==============================] - 5s - loss: 0.0702 - val_loss: 0.0830\n",
      "Epoch 2/5\n",
      "476465/476465 [==============================] - 5s - loss: 0.0472 - val_loss: 0.0601\n",
      "Epoch 3/5\n",
      "476465/476465 [==============================] - 5s - loss: 0.0477 - val_loss: 0.0667\n",
      "Epoch 4/5\n",
      "476465/476465 [==============================] - 5s - loss: 0.0483 - val_loss: 0.0508\n",
      "Epoch 5/5\n",
      "476465/476465 [==============================] - 5s - loss: 0.0491 - val_loss: 0.0513\n"
     ]
    }
   ],
   "source": [
    "inputs = [ratings_df['country_index'], ratings_df['song_index']]\n",
    "\n",
    "network_3 = model.fit(\n",
    "    x=inputs,\n",
    "    y=ratings_df['train_rating'],\n",
    "    batch_size=1024, \n",
    "    epochs=5,\n",
    "    validation_data=(inputs, ratings_df['validation_rating'])\n",
    ")"
   ]
  },
  {
   "cell_type": "code",
   "execution_count": 192,
   "metadata": {},
   "outputs": [
    {
     "name": "stdout",
     "output_type": "stream",
     "text": [
      "Train: 0.11102242413459021\n",
      "Validation: 0.1899202531334214\n"
     ]
    }
   ],
   "source": [
    "predictions = generate_predictions(model=model, inputs=inputs)\n",
    "evaluate_predictions(predictions)"
   ]
  },
  {
   "cell_type": "markdown",
   "metadata": {},
   "source": [
    "These results are roughly identical to the previous. Choosing between the models, we'd certainly go with the simpler of the two.\n",
    "\n",
    "Now, let's try some architectures that benefit from other data sources altogether: the song title, and the song artist."
   ]
  },
  {
   "cell_type": "markdown",
   "metadata": {},
   "source": [
    "<a id=\"network_4\"></a>\n",
    "# Network \\#4\n",
    "\n",
    "Same as [#2](#network_2), except feed in the song title text as well. This text is first tokenized, then padded to a maximum sequence length, then embedded into a fixed-length vector by an LSTM, then reduced to a single value by a dense layer with a ReLU activation. Finally, this scalar is concatenated to the scalar output that [#2](#network_2) would produce, and the result is fed into a final dense layer with a linear activation - i.e. a linear combination of the two."
   ]
  },
  {
   "cell_type": "code",
   "execution_count": 194,
   "metadata": {
    "collapsed": true
   },
   "outputs": [],
   "source": [
    "MAX_SEQUENCE_LENGTH = ratings_df['title_sequence'].map(len).max()\n",
    "\n",
    "padded_title_sequences = pad_sequences(sequences=ratings_df['title_sequence'], maxlen=MAX_SEQUENCE_LENGTH)"
   ]
  },
  {
   "cell_type": "code",
   "execution_count": 205,
   "metadata": {
    "collapsed": true
   },
   "outputs": [],
   "source": [
    "country_input = Input(shape=(1,), dtype='int64', name='country')\n",
    "song_input = Input(shape=(1,), dtype='int64', name='song')\n",
    "title_input = Input(shape=(MAX_SEQUENCE_LENGTH,), dtype='int32', name='song_title_sequence')\n",
    "\n",
    "country_embedding = Embedding(input_dim=n_countries, output_dim=F, embeddings_regularizer=l2(lmbda))(country_input)\n",
    "song_embedding = Embedding(input_dim=n_songs, output_dim=F, embeddings_regularizer=l2(lmbda))(song_input)\n",
    "title_embedding = Embedding(output_dim=F, input_dim=NUM_WORDS, input_length=MAX_SEQUENCE_LENGTH)(title_input)\n",
    "\n",
    "country_bias = Embedding(input_dim=n_countries, output_dim=1, name='country_bias', input_length=1)(country_input)\n",
    "song_bias = Embedding(input_dim=n_songs, output_dim=1, name='song_bias', input_length=1)(song_input)\n",
    "\n",
    "predicted_preference = dot(inputs=[country_embedding, song_embedding], axes=2)\n",
    "predicted_preference = add(inputs=[predicted_preference, country_bias, song_bias])\n",
    "predicted_preference = Flatten()(predicted_preference)\n",
    "\n",
    "title_lstm = LSTM(F)(title_embedding)\n",
    "dense_title_lstm = Dense(units=1, activation='relu')(title_lstm)\n",
    "\n",
    "predicted_preference_merge = concatenate(inputs=[predicted_preference, dense_title_lstm])\n",
    "final_output = Dense(activation='linear', units=1)(predicted_preference_merge)"
   ]
  },
  {
   "cell_type": "code",
   "execution_count": 206,
   "metadata": {
    "collapsed": true
   },
   "outputs": [],
   "source": [
    "model = Model(inputs=[country_input, song_input, title_input], outputs=final_output)\n",
    "model.compile(loss=implicit_cf_loss, optimizer=Adam(lr=LEARNING_RATE))\n",
    "\n",
    "plot_model(model, to_file='figures/network_4.png')"
   ]
  },
  {
   "cell_type": "markdown",
   "metadata": {},
   "source": [
    "![network 4]({static}/figures/neural_implicit_mf_network_4.png)"
   ]
  },
  {
   "cell_type": "code",
   "execution_count": 207,
   "metadata": {},
   "outputs": [
    {
     "name": "stdout",
     "output_type": "stream",
     "text": [
      "Train on 476465 samples, validate on 476465 samples\n",
      "Epoch 1/5\n",
      "476465/476465 [==============================] - 124s - loss: 65.4419 - val_loss: 0.0215\n",
      "Epoch 2/5\n",
      "476465/476465 [==============================] - 126s - loss: 0.0506 - val_loss: 0.0256\n",
      "Epoch 3/5\n",
      "476465/476465 [==============================] - 120s - loss: 0.0476 - val_loss: 0.0282\n",
      "Epoch 4/5\n",
      "476465/476465 [==============================] - 119s - loss: 0.0472 - val_loss: 0.0288\n",
      "Epoch 5/5\n",
      "476465/476465 [==============================] - 119s - loss: 0.0471 - val_loss: 0.0291\n"
     ]
    }
   ],
   "source": [
    "inputs = [ratings_df['country_index'], ratings_df['song_index'], padded_title_sequences]\n",
    "\n",
    "network_4 = model.fit(\n",
    "    x=inputs,\n",
    "    y=ratings_df['train_rating'],\n",
    "    batch_size=1024, \n",
    "    epochs=5,\n",
    "    validation_data=(inputs, ratings_df['validation_rating'])\n",
    ")"
   ]
  },
  {
   "cell_type": "code",
   "execution_count": 208,
   "metadata": {},
   "outputs": [
    {
     "name": "stdout",
     "output_type": "stream",
     "text": [
      "Train: 0.11471700578472085\n",
      "Validation: 0.18885209182480478\n"
     ]
    }
   ],
   "source": [
    "predictions = generate_predictions(model=model, inputs=inputs)\n",
    "evaluate_predictions(predictions)"
   ]
  },
  {
   "cell_type": "markdown",
   "metadata": {},
   "source": [
    "We seem to get a pinch of lift from the song title, though we're still underfitting our training set. Perhaps we could make our model bigger, or run it for more epochs.\n",
    "\n",
    "Let's plot our ground-truth vs. prediction distributions side-by-side just to make sure we're still on the right track."
   ]
  },
  {
   "cell_type": "code",
   "execution_count": 210,
   "metadata": {},
   "outputs": [
    {
     "data": {
      "image/png": "[encoded data removed]",
      "text/plain": [
       "<matplotlib.figure.Figure at 0x12cd0f8d0>"
      ]
     },
     "metadata": {},
     "output_type": "display_data"
    }
   ],
   "source": [
    "_ = pd.DataFrame({\n",
    "    'predictions': predictions.values.flatten(),\n",
    "    'ratings': ratings_df['train_rating'].values.flatten()\n",
    "}).hist(figsize=(16, 6))"
   ]
  },
  {
   "cell_type": "markdown",
   "metadata": {},
   "source": [
    "Finally, let's add the artist."
   ]
  },
  {
   "cell_type": "markdown",
   "metadata": {},
   "source": [
    "<a id=\"network_5\"></a>\n",
    "# Network \\#5\n",
    "\n",
    "Same as [#4](#network_4), except feed in the song artist index as well. This index is first embedded into a vector, then reduced to a scalar by a dense layer with a ReLU activation. Finally, this scalar is concatenated with the two scalars produced in the second-to-last layer of [#4](#network_4), then fed into a final dense layer with a linear activation. Like the previous, this is a linear combination of the three inputs."
   ]
  },
  {
   "cell_type": "code",
   "execution_count": 217,
   "metadata": {
    "collapsed": true
   },
   "outputs": [],
   "source": [
    "artist_input = Input(shape=(1,), dtype='int64', name='artist')\n",
    "artist_embedding = Embedding(input_dim=n_artists, output_dim=F, embeddings_regularizer=l2(lmbda))(artist_input)\n",
    "dense_artist_embedding = Dense(units=1, activation='relu')(artist_embedding)\n",
    "dense_artist_embedding = Flatten()(dense_artist_embedding)\n",
    "\n",
    "predicted_preference_merge = concatenate(inputs=[predicted_preference, dense_title_lstm, dense_artist_embedding])\n",
    "final_output = Dense(activation='linear', units=1)(predicted_preference_merge)"
   ]
  },
  {
   "cell_type": "code",
   "execution_count": 218,
   "metadata": {
    "collapsed": true
   },
   "outputs": [],
   "source": [
    "model = Model(inputs=[country_input, song_input, title_input, artist_input], outputs=final_output)\n",
    "model.compile(loss=implicit_cf_loss, optimizer=Adam(lr=LEARNING_RATE))\n",
    "\n",
    "plot_model(model, to_file='figures/network_5.png')"
   ]
  },
  {
   "cell_type": "markdown",
   "metadata": {},
   "source": [
    "![network 5]({static}/figures/neural_implicit_mf_network_5.png)"
   ]
  },
  {
   "cell_type": "code",
   "execution_count": 219,
   "metadata": {},
   "outputs": [
    {
     "name": "stdout",
     "output_type": "stream",
     "text": [
      "Train on 476465 samples, validate on 476465 samples\n",
      "Epoch 1/5\n",
      "476465/476465 [==============================] - 122s - loss: 28.0315 - val_loss: 0.0224\n",
      "Epoch 2/5\n",
      "476465/476465 [==============================] - 129s - loss: 0.0484 - val_loss: 0.0269\n",
      "Epoch 3/5\n",
      "476465/476465 [==============================] - 121s - loss: 0.0473 - val_loss: 0.0310\n",
      "Epoch 4/5\n",
      "476465/476465 [==============================] - 134s - loss: 0.0489 - val_loss: 0.0333\n",
      "Epoch 5/5\n",
      "476465/476465 [==============================] - 131s - loss: 0.0485 - val_loss: 0.0300\n"
     ]
    },
    {
     "data": {
      "text/plain": [
       "<keras.callbacks.History at 0x12ee912b0>"
      ]
     },
     "execution_count": 219,
     "metadata": {},
     "output_type": "execute_result"
    }
   ],
   "source": [
    "inputs = [\n",
    "    ratings_df['country_index'], \n",
    "    ratings_df['song_index'], \n",
    "    padded_title_sequences, \n",
    "    ratings_df['song_artist_index']\n",
    "]\n",
    "\n",
    "model.fit(\n",
    "    x=inputs,\n",
    "    y=ratings_df['train_rating'],\n",
    "    batch_size=1024, \n",
    "    epochs=5,\n",
    "    validation_data=(inputs, ratings_df['validation_rating'])\n",
    ")"
   ]
  },
  {
   "cell_type": "code",
   "execution_count": 220,
   "metadata": {},
   "outputs": [
    {
     "name": "stdout",
     "output_type": "stream",
     "text": [
      "Train: 0.11092262775206822\n",
      "Validation: 0.19037930919362725\n"
     ]
    }
   ],
   "source": [
    "predictions = generate_predictions(model=model, inputs=inputs)\n",
    "evaluate_predictions(predictions)"
   ]
  },
  {
   "cell_type": "markdown",
   "metadata": {},
   "source": [
    "This seems a bit worse than the last, though similar all the same. I'm a bit surprised we didn't get more lift from artists. Nevertheless, we're still underfitting. Bigger model, more epochs, etc."
   ]
  },
  {
   "cell_type": "markdown",
   "metadata": {
    "collapsed": true
   },
   "source": [
    "# What went wrong?\n",
    "\n",
    "Our best neural network in terms of performance and complexity is network [#2](#network_2). Let's refit this model and inspect a few predictions."
   ]
  },
  {
   "cell_type": "code",
   "execution_count": 409,
   "metadata": {
    "collapsed": true
   },
   "outputs": [],
   "source": [
    "country_input = Input(shape=(1,), dtype='int64', name='country')\n",
    "song_input = Input(shape=(1,), dtype='int64', name='song')\n",
    "\n",
    "country_embedding = Embedding(input_dim=n_countries, output_dim=F, embeddings_regularizer=l2(lmbda))(country_input)\n",
    "song_embedding = Embedding(input_dim=n_songs, output_dim=F, embeddings_regularizer=l2(lmbda))(song_input)\n",
    "\n",
    "country_bias = Embedding(input_dim=n_countries, output_dim=1, name='country_bias', input_length=1)(country_input)\n",
    "song_bias = Embedding(input_dim=n_songs, output_dim=1, name='song_bias', input_length=1)(song_input)\n",
    "\n",
    "predicted_preference = dot(inputs=[country_embedding, song_embedding], axes=2)\n",
    "predicted_preference = Flatten()(predicted_preference)\n",
    "\n",
    "predicted_preference = add(inputs=[predicted_preference, song_bias, country_bias])\n",
    "predicted_preference = Flatten()(predicted_preference)"
   ]
  },
  {
   "cell_type": "code",
   "execution_count": 410,
   "metadata": {
    "collapsed": true
   },
   "outputs": [],
   "source": [
    "model = Model(inputs=[country_input, song_input], outputs=predicted_preference)\n",
    "model.compile(loss=implicit_cf_loss, optimizer=Adam(lr=LEARNING_RATE))"
   ]
  },
  {
   "cell_type": "code",
   "execution_count": 411,
   "metadata": {},
   "outputs": [
    {
     "name": "stdout",
     "output_type": "stream",
     "text": [
      "Train on 476465 samples, validate on 476465 samples\n",
      "Epoch 1/5\n",
      "476465/476465 [==============================] - 3s - loss: 65.2042 - val_loss: 0.0205\n",
      "Epoch 2/5\n",
      "476465/476465 [==============================] - 8s - loss: 0.0559 - val_loss: 0.0212\n",
      "Epoch 3/5\n",
      "476465/476465 [==============================] - 3s - loss: 0.0519 - val_loss: 0.0225\n",
      "Epoch 4/5\n",
      "476465/476465 [==============================] - 2s - loss: 0.0496 - val_loss: 0.0235\n",
      "Epoch 5/5\n",
      "476465/476465 [==============================] - 2s - loss: 0.0482 - val_loss: 0.0248\n"
     ]
    }
   ],
   "source": [
    "inputs = [ratings_df['country_index'], ratings_df['song_index']]\n",
    "\n",
    "network_2 = model.fit(\n",
    "    x=inputs,\n",
    "    y=ratings_df['train_rating'],\n",
    "    batch_size=1024, \n",
    "    epochs=5,\n",
    "    validation_data=(inputs, ratings_df['validation_rating'])\n",
    ")"
   ]
  },
  {
   "cell_type": "code",
   "execution_count": 412,
   "metadata": {},
   "outputs": [
    {
     "name": "stdout",
     "output_type": "stream",
     "text": [
      "Train: 0.10905118689288228\n",
      "Validation: 0.19050085125816704\n"
     ]
    }
   ],
   "source": [
    "predictions = generate_predictions(model=model, inputs=inputs)\n",
    "evaluate_predictions(predictions)"
   ]
  },
  {
   "cell_type": "code",
   "execution_count": 441,
   "metadata": {
    "collapsed": true
   },
   "outputs": [],
   "source": [
    "predictions_unstack = predictions.unstack()\n",
    "\n",
    "predictions_unstack = pd.DataFrame({\n",
    "    'song_title': song_metadata_df.ix[predictions_unstack.index.get_level_values('song_id')]['song_title'],\n",
    "    'song_artist': song_metadata_df.ix[predictions_unstack.index.get_level_values('song_id')]['song_artist'],\n",
    "    'country': unstack.index.get_level_values('country_id').map(country_id_to_name.get),\n",
    "    'rating': predictions_unstack.values\n",
    "})"
   ]
  },
  {
   "cell_type": "markdown",
   "metadata": {},
   "source": [
    "## Colombia"
   ]
  },
  {
   "cell_type": "code",
   "execution_count": 443,
   "metadata": {},
   "outputs": [
    {
     "data": {
      "text/html": [
       "<div>\n",
       "<table border=\"1\" class=\"dataframe\">\n",
       "  <thead>\n",
       "    <tr style=\"text-align: right;\">\n",
       "      <th></th>\n",
       "      <th>country</th>\n",
       "      <th>rating</th>\n",
       "      <th>song_artist</th>\n",
       "      <th>song_title</th>\n",
       "    </tr>\n",
       "    <tr>\n",
       "      <th>song_id</th>\n",
       "      <th></th>\n",
       "      <th></th>\n",
       "      <th></th>\n",
       "      <th></th>\n",
       "    </tr>\n",
       "  </thead>\n",
       "  <tbody>\n",
       "    <tr>\n",
       "      <th>30519</th>\n",
       "      <td>Colombia</td>\n",
       "      <td>0.715299</td>\n",
       "      <td>Katy Perry</td>\n",
       "      <td>Chained To The Rhythm</td>\n",
       "    </tr>\n",
       "    <tr>\n",
       "      <th>31060</th>\n",
       "      <td>Colombia</td>\n",
       "      <td>0.704788</td>\n",
       "      <td>Ed Sheeran</td>\n",
       "      <td>Perfect</td>\n",
       "    </tr>\n",
       "    <tr>\n",
       "      <th>30137</th>\n",
       "      <td>Colombia</td>\n",
       "      <td>0.683443</td>\n",
       "      <td>Ed Sheeran</td>\n",
       "      <td>Castle on the Hill</td>\n",
       "    </tr>\n",
       "    <tr>\n",
       "      <th>31043</th>\n",
       "      <td>Colombia</td>\n",
       "      <td>0.681572</td>\n",
       "      <td>Zedd</td>\n",
       "      <td>Stay (with Alessia Cara)</td>\n",
       "    </tr>\n",
       "    <tr>\n",
       "      <th>31041</th>\n",
       "      <td>Colombia</td>\n",
       "      <td>0.680419</td>\n",
       "      <td>The Chainsmokers</td>\n",
       "      <td>Something Just Like This</td>\n",
       "    </tr>\n",
       "    <tr>\n",
       "      <th>18894</th>\n",
       "      <td>Colombia</td>\n",
       "      <td>0.674962</td>\n",
       "      <td>Calvin Harris</td>\n",
       "      <td>My Way</td>\n",
       "    </tr>\n",
       "    <tr>\n",
       "      <th>30487</th>\n",
       "      <td>Colombia</td>\n",
       "      <td>0.674799</td>\n",
       "      <td>Major Lazer</td>\n",
       "      <td>Run Up (feat. PARTYNEXTDOOR &amp; Nicki Minaj)</td>\n",
       "    </tr>\n",
       "    <tr>\n",
       "      <th>20131</th>\n",
       "      <td>Colombia</td>\n",
       "      <td>0.672363</td>\n",
       "      <td>The Weeknd</td>\n",
       "      <td>I Feel It Coming</td>\n",
       "    </tr>\n",
       "    <tr>\n",
       "      <th>20222</th>\n",
       "      <td>Colombia</td>\n",
       "      <td>0.671484</td>\n",
       "      <td>Bruno Mars</td>\n",
       "      <td>That's What I Like</td>\n",
       "    </tr>\n",
       "    <tr>\n",
       "      <th>31045</th>\n",
       "      <td>Colombia</td>\n",
       "      <td>0.669374</td>\n",
       "      <td>Clean Bandit</td>\n",
       "      <td>Symphony (feat. Zara Larsson)</td>\n",
       "    </tr>\n",
       "  </tbody>\n",
       "</table>\n",
       "</div>"
      ],
      "text/plain": [
       "          country    rating       song_artist  \\\n",
       "song_id                                         \n",
       "30519    Colombia  0.715299        Katy Perry   \n",
       "31060    Colombia  0.704788        Ed Sheeran   \n",
       "30137    Colombia  0.683443        Ed Sheeran   \n",
       "31043    Colombia  0.681572              Zedd   \n",
       "31041    Colombia  0.680419  The Chainsmokers   \n",
       "18894    Colombia  0.674962     Calvin Harris   \n",
       "30487    Colombia  0.674799       Major Lazer   \n",
       "20131    Colombia  0.672363        The Weeknd   \n",
       "20222    Colombia  0.671484        Bruno Mars   \n",
       "31045    Colombia  0.669374      Clean Bandit   \n",
       "\n",
       "                                         song_title  \n",
       "song_id                                              \n",
       "30519                         Chained To The Rhythm  \n",
       "31060                                       Perfect  \n",
       "30137                            Castle on the Hill  \n",
       "31043                      Stay (with Alessia Cara)  \n",
       "31041                      Something Just Like This  \n",
       "18894                                        My Way  \n",
       "30487    Run Up (feat. PARTYNEXTDOOR & Nicki Minaj)  \n",
       "20131                              I Feel It Coming  \n",
       "20222                            That's What I Like  \n",
       "31045                 Symphony (feat. Zara Larsson)  "
      ]
     },
     "execution_count": 443,
     "metadata": {},
     "output_type": "execute_result"
    }
   ],
   "source": [
    "predictions_unstack[predictions_unstack['country'] == 'Colombia'].sort_values(by='rating', ascending=False).head(10)"
   ]
  },
  {
   "cell_type": "markdown",
   "metadata": {},
   "source": [
    "## United States"
   ]
  },
  {
   "cell_type": "code",
   "execution_count": 444,
   "metadata": {},
   "outputs": [
    {
     "data": {
      "text/html": [
       "<div>\n",
       "<table border=\"1\" class=\"dataframe\">\n",
       "  <thead>\n",
       "    <tr style=\"text-align: right;\">\n",
       "      <th></th>\n",
       "      <th>country</th>\n",
       "      <th>rating</th>\n",
       "      <th>song_artist</th>\n",
       "      <th>song_title</th>\n",
       "    </tr>\n",
       "    <tr>\n",
       "      <th>song_id</th>\n",
       "      <th></th>\n",
       "      <th></th>\n",
       "      <th></th>\n",
       "      <th></th>\n",
       "    </tr>\n",
       "  </thead>\n",
       "  <tbody>\n",
       "    <tr>\n",
       "      <th>30519</th>\n",
       "      <td>United States</td>\n",
       "      <td>0.752865</td>\n",
       "      <td>Katy Perry</td>\n",
       "      <td>Chained To The Rhythm</td>\n",
       "    </tr>\n",
       "    <tr>\n",
       "      <th>31060</th>\n",
       "      <td>United States</td>\n",
       "      <td>0.742354</td>\n",
       "      <td>Ed Sheeran</td>\n",
       "      <td>Perfect</td>\n",
       "    </tr>\n",
       "    <tr>\n",
       "      <th>30137</th>\n",
       "      <td>United States</td>\n",
       "      <td>0.721009</td>\n",
       "      <td>Ed Sheeran</td>\n",
       "      <td>Castle on the Hill</td>\n",
       "    </tr>\n",
       "    <tr>\n",
       "      <th>31043</th>\n",
       "      <td>United States</td>\n",
       "      <td>0.719138</td>\n",
       "      <td>Zedd</td>\n",
       "      <td>Stay (with Alessia Cara)</td>\n",
       "    </tr>\n",
       "    <tr>\n",
       "      <th>31041</th>\n",
       "      <td>United States</td>\n",
       "      <td>0.717985</td>\n",
       "      <td>The Chainsmokers</td>\n",
       "      <td>Something Just Like This</td>\n",
       "    </tr>\n",
       "    <tr>\n",
       "      <th>18894</th>\n",
       "      <td>United States</td>\n",
       "      <td>0.712528</td>\n",
       "      <td>Calvin Harris</td>\n",
       "      <td>My Way</td>\n",
       "    </tr>\n",
       "    <tr>\n",
       "      <th>30487</th>\n",
       "      <td>United States</td>\n",
       "      <td>0.712365</td>\n",
       "      <td>Major Lazer</td>\n",
       "      <td>Run Up (feat. PARTYNEXTDOOR &amp; Nicki Minaj)</td>\n",
       "    </tr>\n",
       "    <tr>\n",
       "      <th>20131</th>\n",
       "      <td>United States</td>\n",
       "      <td>0.709929</td>\n",
       "      <td>The Weeknd</td>\n",
       "      <td>I Feel It Coming</td>\n",
       "    </tr>\n",
       "    <tr>\n",
       "      <th>20222</th>\n",
       "      <td>United States</td>\n",
       "      <td>0.709051</td>\n",
       "      <td>Bruno Mars</td>\n",
       "      <td>That's What I Like</td>\n",
       "    </tr>\n",
       "    <tr>\n",
       "      <th>31045</th>\n",
       "      <td>United States</td>\n",
       "      <td>0.706940</td>\n",
       "      <td>Clean Bandit</td>\n",
       "      <td>Symphony (feat. Zara Larsson)</td>\n",
       "    </tr>\n",
       "  </tbody>\n",
       "</table>\n",
       "</div>"
      ],
      "text/plain": [
       "               country    rating       song_artist  \\\n",
       "song_id                                              \n",
       "30519    United States  0.752865        Katy Perry   \n",
       "31060    United States  0.742354        Ed Sheeran   \n",
       "30137    United States  0.721009        Ed Sheeran   \n",
       "31043    United States  0.719138              Zedd   \n",
       "31041    United States  0.717985  The Chainsmokers   \n",
       "18894    United States  0.712528     Calvin Harris   \n",
       "30487    United States  0.712365       Major Lazer   \n",
       "20131    United States  0.709929        The Weeknd   \n",
       "20222    United States  0.709051        Bruno Mars   \n",
       "31045    United States  0.706940      Clean Bandit   \n",
       "\n",
       "                                         song_title  \n",
       "song_id                                              \n",
       "30519                         Chained To The Rhythm  \n",
       "31060                                       Perfect  \n",
       "30137                            Castle on the Hill  \n",
       "31043                      Stay (with Alessia Cara)  \n",
       "31041                      Something Just Like This  \n",
       "18894                                        My Way  \n",
       "30487    Run Up (feat. PARTYNEXTDOOR & Nicki Minaj)  \n",
       "20131                              I Feel It Coming  \n",
       "20222                            That's What I Like  \n",
       "31045                 Symphony (feat. Zara Larsson)  "
      ]
     },
     "execution_count": 444,
     "metadata": {},
     "output_type": "execute_result"
    }
   ],
   "source": [
    "predictions_unstack[predictions_unstack['country'] == 'United States'].sort_values(by='rating', ascending=False).head(10)"
   ]
  },
  {
   "cell_type": "markdown",
   "metadata": {},
   "source": [
    "## Turkey"
   ]
  },
  {
   "cell_type": "code",
   "execution_count": 445,
   "metadata": {},
   "outputs": [
    {
     "data": {
      "text/html": [
       "<div>\n",
       "<table border=\"1\" class=\"dataframe\">\n",
       "  <thead>\n",
       "    <tr style=\"text-align: right;\">\n",
       "      <th></th>\n",
       "      <th>country</th>\n",
       "      <th>rating</th>\n",
       "      <th>song_artist</th>\n",
       "      <th>song_title</th>\n",
       "    </tr>\n",
       "    <tr>\n",
       "      <th>song_id</th>\n",
       "      <th></th>\n",
       "      <th></th>\n",
       "      <th></th>\n",
       "      <th></th>\n",
       "    </tr>\n",
       "  </thead>\n",
       "  <tbody>\n",
       "    <tr>\n",
       "      <th>30519</th>\n",
       "      <td>Turkey</td>\n",
       "      <td>0.728861</td>\n",
       "      <td>Katy Perry</td>\n",
       "      <td>Chained To The Rhythm</td>\n",
       "    </tr>\n",
       "    <tr>\n",
       "      <th>31060</th>\n",
       "      <td>Turkey</td>\n",
       "      <td>0.718350</td>\n",
       "      <td>Ed Sheeran</td>\n",
       "      <td>Perfect</td>\n",
       "    </tr>\n",
       "    <tr>\n",
       "      <th>30137</th>\n",
       "      <td>Turkey</td>\n",
       "      <td>0.697005</td>\n",
       "      <td>Ed Sheeran</td>\n",
       "      <td>Castle on the Hill</td>\n",
       "    </tr>\n",
       "    <tr>\n",
       "      <th>31043</th>\n",
       "      <td>Turkey</td>\n",
       "      <td>0.695134</td>\n",
       "      <td>Zedd</td>\n",
       "      <td>Stay (with Alessia Cara)</td>\n",
       "    </tr>\n",
       "    <tr>\n",
       "      <th>31041</th>\n",
       "      <td>Turkey</td>\n",
       "      <td>0.693981</td>\n",
       "      <td>The Chainsmokers</td>\n",
       "      <td>Something Just Like This</td>\n",
       "    </tr>\n",
       "    <tr>\n",
       "      <th>18894</th>\n",
       "      <td>Turkey</td>\n",
       "      <td>0.688524</td>\n",
       "      <td>Calvin Harris</td>\n",
       "      <td>My Way</td>\n",
       "    </tr>\n",
       "    <tr>\n",
       "      <th>30487</th>\n",
       "      <td>Turkey</td>\n",
       "      <td>0.688361</td>\n",
       "      <td>Major Lazer</td>\n",
       "      <td>Run Up (feat. PARTYNEXTDOOR &amp; Nicki Minaj)</td>\n",
       "    </tr>\n",
       "    <tr>\n",
       "      <th>20131</th>\n",
       "      <td>Turkey</td>\n",
       "      <td>0.685925</td>\n",
       "      <td>The Weeknd</td>\n",
       "      <td>I Feel It Coming</td>\n",
       "    </tr>\n",
       "    <tr>\n",
       "      <th>20222</th>\n",
       "      <td>Turkey</td>\n",
       "      <td>0.685046</td>\n",
       "      <td>Bruno Mars</td>\n",
       "      <td>That's What I Like</td>\n",
       "    </tr>\n",
       "    <tr>\n",
       "      <th>31045</th>\n",
       "      <td>Turkey</td>\n",
       "      <td>0.682936</td>\n",
       "      <td>Clean Bandit</td>\n",
       "      <td>Symphony (feat. Zara Larsson)</td>\n",
       "    </tr>\n",
       "  </tbody>\n",
       "</table>\n",
       "</div>"
      ],
      "text/plain": [
       "        country    rating       song_artist  \\\n",
       "song_id                                       \n",
       "30519    Turkey  0.728861        Katy Perry   \n",
       "31060    Turkey  0.718350        Ed Sheeran   \n",
       "30137    Turkey  0.697005        Ed Sheeran   \n",
       "31043    Turkey  0.695134              Zedd   \n",
       "31041    Turkey  0.693981  The Chainsmokers   \n",
       "18894    Turkey  0.688524     Calvin Harris   \n",
       "30487    Turkey  0.688361       Major Lazer   \n",
       "20131    Turkey  0.685925        The Weeknd   \n",
       "20222    Turkey  0.685046        Bruno Mars   \n",
       "31045    Turkey  0.682936      Clean Bandit   \n",
       "\n",
       "                                         song_title  \n",
       "song_id                                              \n",
       "30519                         Chained To The Rhythm  \n",
       "31060                                       Perfect  \n",
       "30137                            Castle on the Hill  \n",
       "31043                      Stay (with Alessia Cara)  \n",
       "31041                      Something Just Like This  \n",
       "18894                                        My Way  \n",
       "30487    Run Up (feat. PARTYNEXTDOOR & Nicki Minaj)  \n",
       "20131                              I Feel It Coming  \n",
       "20222                            That's What I Like  \n",
       "31045                 Symphony (feat. Zara Larsson)  "
      ]
     },
     "execution_count": 445,
     "metadata": {},
     "output_type": "execute_result"
    }
   ],
   "source": [
    "predictions_unstack[predictions_unstack['country'] == 'Turkey'].sort_values(by='rating', ascending=False).head(10)"
   ]
  },
  {
   "cell_type": "markdown",
   "metadata": {},
   "source": [
    "## Taiwan"
   ]
  },
  {
   "cell_type": "code",
   "execution_count": 446,
   "metadata": {},
   "outputs": [
    {
     "data": {
      "text/html": [
       "<div>\n",
       "<table border=\"1\" class=\"dataframe\">\n",
       "  <thead>\n",
       "    <tr style=\"text-align: right;\">\n",
       "      <th></th>\n",
       "      <th>country</th>\n",
       "      <th>rating</th>\n",
       "      <th>song_artist</th>\n",
       "      <th>song_title</th>\n",
       "    </tr>\n",
       "    <tr>\n",
       "      <th>song_id</th>\n",
       "      <th></th>\n",
       "      <th></th>\n",
       "      <th></th>\n",
       "      <th></th>\n",
       "    </tr>\n",
       "  </thead>\n",
       "  <tbody>\n",
       "    <tr>\n",
       "      <th>30519</th>\n",
       "      <td>Taiwan</td>\n",
       "      <td>0.789601</td>\n",
       "      <td>Katy Perry</td>\n",
       "      <td>Chained To The Rhythm</td>\n",
       "    </tr>\n",
       "    <tr>\n",
       "      <th>31060</th>\n",
       "      <td>Taiwan</td>\n",
       "      <td>0.779090</td>\n",
       "      <td>Ed Sheeran</td>\n",
       "      <td>Perfect</td>\n",
       "    </tr>\n",
       "    <tr>\n",
       "      <th>30137</th>\n",
       "      <td>Taiwan</td>\n",
       "      <td>0.757745</td>\n",
       "      <td>Ed Sheeran</td>\n",
       "      <td>Castle on the Hill</td>\n",
       "    </tr>\n",
       "    <tr>\n",
       "      <th>31043</th>\n",
       "      <td>Taiwan</td>\n",
       "      <td>0.755874</td>\n",
       "      <td>Zedd</td>\n",
       "      <td>Stay (with Alessia Cara)</td>\n",
       "    </tr>\n",
       "    <tr>\n",
       "      <th>31041</th>\n",
       "      <td>Taiwan</td>\n",
       "      <td>0.754721</td>\n",
       "      <td>The Chainsmokers</td>\n",
       "      <td>Something Just Like This</td>\n",
       "    </tr>\n",
       "    <tr>\n",
       "      <th>18894</th>\n",
       "      <td>Taiwan</td>\n",
       "      <td>0.749264</td>\n",
       "      <td>Calvin Harris</td>\n",
       "      <td>My Way</td>\n",
       "    </tr>\n",
       "    <tr>\n",
       "      <th>30487</th>\n",
       "      <td>Taiwan</td>\n",
       "      <td>0.749101</td>\n",
       "      <td>Major Lazer</td>\n",
       "      <td>Run Up (feat. PARTYNEXTDOOR &amp; Nicki Minaj)</td>\n",
       "    </tr>\n",
       "    <tr>\n",
       "      <th>20131</th>\n",
       "      <td>Taiwan</td>\n",
       "      <td>0.746664</td>\n",
       "      <td>The Weeknd</td>\n",
       "      <td>I Feel It Coming</td>\n",
       "    </tr>\n",
       "    <tr>\n",
       "      <th>20222</th>\n",
       "      <td>Taiwan</td>\n",
       "      <td>0.745786</td>\n",
       "      <td>Bruno Mars</td>\n",
       "      <td>That's What I Like</td>\n",
       "    </tr>\n",
       "    <tr>\n",
       "      <th>31045</th>\n",
       "      <td>Taiwan</td>\n",
       "      <td>0.743676</td>\n",
       "      <td>Clean Bandit</td>\n",
       "      <td>Symphony (feat. Zara Larsson)</td>\n",
       "    </tr>\n",
       "  </tbody>\n",
       "</table>\n",
       "</div>"
      ],
      "text/plain": [
       "        country    rating       song_artist  \\\n",
       "song_id                                       \n",
       "30519    Taiwan  0.789601        Katy Perry   \n",
       "31060    Taiwan  0.779090        Ed Sheeran   \n",
       "30137    Taiwan  0.757745        Ed Sheeran   \n",
       "31043    Taiwan  0.755874              Zedd   \n",
       "31041    Taiwan  0.754721  The Chainsmokers   \n",
       "18894    Taiwan  0.749264     Calvin Harris   \n",
       "30487    Taiwan  0.749101       Major Lazer   \n",
       "20131    Taiwan  0.746664        The Weeknd   \n",
       "20222    Taiwan  0.745786        Bruno Mars   \n",
       "31045    Taiwan  0.743676      Clean Bandit   \n",
       "\n",
       "                                         song_title  \n",
       "song_id                                              \n",
       "30519                         Chained To The Rhythm  \n",
       "31060                                       Perfect  \n",
       "30137                            Castle on the Hill  \n",
       "31043                      Stay (with Alessia Cara)  \n",
       "31041                      Something Just Like This  \n",
       "18894                                        My Way  \n",
       "30487    Run Up (feat. PARTYNEXTDOOR & Nicki Minaj)  \n",
       "20131                              I Feel It Coming  \n",
       "20222                            That's What I Like  \n",
       "31045                 Symphony (feat. Zara Larsson)  "
      ]
     },
     "execution_count": 446,
     "metadata": {},
     "output_type": "execute_result"
    }
   ],
   "source": [
    "predictions_unstack[predictions_unstack['country'] == 'Taiwan'].sort_values(by='rating', ascending=False).head(10)"
   ]
  },
  {
   "cell_type": "markdown",
   "metadata": {},
   "source": [
    "As is abundantly clear, the model is simply converging to a popularity baseline. I tried extracting the vectors outright, normalizing as before then computing dot products, but the results made little sense."
   ]
  },
  {
   "cell_type": "markdown",
   "metadata": {},
   "source": [
    "# Future work\n",
    "\n",
    "At this stage, Implicit Matrix Factorization is the clear winner. The algorithm is popular for several good reasons - it's simple, relatively scalable, intuitive (especially given the significance of the interplay between $C$ and $P$, which I did not expressedly discuss) and effective. Herein, I did not produce a neural network approximating this algorithm with superior results.\n",
    "\n",
    "My intuition tells me I'm missing something simple; why shouldn't a non-linear function approximator be able to approximate $f(u, i)$ better than a linear matrix decomposition? At this stage, I'm not sure. My best guess is that we should seek to optimize a different loss function. Here, we've mirrored that of IMF; why not optimize a *ranking* loss function instead, since that's what's ultimately important? The IMF objective makes the actual optimization process easy for ratings matrices with billions of items; in our case, with far fewer items, we're simply using stochastic gradient descent. To this effect, I did experiment with some composite loss functions; on one side, `implicit_mf_loss`, and on the other, a `cutoff_loss`, which seeks to enforce that songs which received a rating $\\tilde{r}_{u, i}$ above a certain cutoff should be indeed predicted at above that cutoff. It's a crude, binary absolute error. This was unsuccessful.\n",
    "\n",
    "Finally, if there is in fact some value in using neural networks for this type of problem, I'm extremely intrigued by the ease and intuitiveness with which we can incorporate multiple inputs into our function. Encoding our song title with an LSTM, and training that LSTM end-to-end with our main minimization objective, is one example of this. Furthermore, Keras makes the construction of these networks straightforward.\n",
    "\n",
    "Thanks for reading this work. Your feedback is welcome, and I do hope this serves as a point of inspiration, trial and error should this question interest you."
   ]
  }
 ],
 "metadata": {
  "kernelspec": {
   "display_name": "Python 3",
   "language": "python",
   "name": "python3"
  },
  "language_info": {
   "codemirror_mode": {
    "name": "ipython",
    "version": 3
   },
   "file_extension": ".py",
   "mimetype": "text/x-python",
   "name": "python",
   "nbconvert_exporter": "python",
   "pygments_lexer": "ipython3",
   "version": "3.5.1"
  }
 },
 "nbformat": 4,
 "nbformat_minor": 1
}
